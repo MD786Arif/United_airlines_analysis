{
 "cells": [
  {
   "cell_type": "code",
   "execution_count": 505,
   "id": "7ab87f60-980e-43d6-a2dd-dccd1c9871fc",
   "metadata": {},
   "outputs": [],
   "source": [
    "# importing important libraries\n",
    "import pandas as pd\n",
    "import numpy as np\n",
    "import seaborn as sns\n",
    "import matplotlib.pyplot as plt"
   ]
  },
  {
   "cell_type": "code",
   "execution_count": 507,
   "id": "bd90ab39-70e8-4981-bbd1-8c491dff99b9",
   "metadata": {},
   "outputs": [],
   "source": [
    "# Data set import\n",
    "calls = pd.read_csv('./united/callsf0d4f5a.csv',encoding = 'utf-8')\n",
    "reason = pd.read_csv('./united/reason18315ff.csv',encoding = 'utf-8')\n",
    "sentiment = pd.read_csv('./united/sentiment_statisticscc1e57a.csv',encoding = 'utf-8')\n",
    "customer = pd.read_csv('./united/customers2afd6ea.csv',encoding = 'utf-8')"
   ]
  },
  {
   "cell_type": "code",
   "execution_count": 669,
   "id": "ec04942f-4fe0-46b2-8ebe-dbf48c6b873b",
   "metadata": {},
   "outputs": [
    {
     "data": {
      "text/plain": [
       "25767"
      ]
     },
     "execution_count": 669,
     "metadata": {},
     "output_type": "execute_result"
    }
   ],
   "source": [
    "customer['elite_level_code'].isna().sum()"
   ]
  },
  {
   "cell_type": "code",
   "execution_count": 509,
   "id": "17175802-d571-4079-8295-badcf6770d2f",
   "metadata": {},
   "outputs": [
    {
     "data": {
      "text/html": [
       "<div>\n",
       "<style scoped>\n",
       "    .dataframe tbody tr th:only-of-type {\n",
       "        vertical-align: middle;\n",
       "    }\n",
       "\n",
       "    .dataframe tbody tr th {\n",
       "        vertical-align: top;\n",
       "    }\n",
       "\n",
       "    .dataframe thead th {\n",
       "        text-align: right;\n",
       "    }\n",
       "</style>\n",
       "<table border=\"1\" class=\"dataframe\">\n",
       "  <thead>\n",
       "    <tr style=\"text-align: right;\">\n",
       "      <th></th>\n",
       "      <th>call_id</th>\n",
       "      <th>customer_id</th>\n",
       "      <th>agent_id</th>\n",
       "      <th>call_start_datetime</th>\n",
       "      <th>agent_assigned_datetime</th>\n",
       "      <th>call_end_datetime</th>\n",
       "      <th>call_transcript</th>\n",
       "    </tr>\n",
       "  </thead>\n",
       "  <tbody>\n",
       "    <tr>\n",
       "      <th>0</th>\n",
       "      <td>4667960400</td>\n",
       "      <td>2033123310</td>\n",
       "      <td>963118</td>\n",
       "      <td>7/31/2024 23:56</td>\n",
       "      <td>8/1/2024 0:03</td>\n",
       "      <td>8/1/2024 0:34</td>\n",
       "      <td>\\n\\nAgent: Thank you for calling United Airlin...</td>\n",
       "    </tr>\n",
       "    <tr>\n",
       "      <th>1</th>\n",
       "      <td>1122072124</td>\n",
       "      <td>8186702651</td>\n",
       "      <td>519057</td>\n",
       "      <td>8/1/2024 0:03</td>\n",
       "      <td>8/1/2024 0:06</td>\n",
       "      <td>8/1/2024 0:18</td>\n",
       "      <td>\\n\\nAgent: Thank you for calling United Airlin...</td>\n",
       "    </tr>\n",
       "  </tbody>\n",
       "</table>\n",
       "</div>"
      ],
      "text/plain": [
       "      call_id  customer_id  agent_id call_start_datetime  \\\n",
       "0  4667960400   2033123310    963118     7/31/2024 23:56   \n",
       "1  1122072124   8186702651    519057       8/1/2024 0:03   \n",
       "\n",
       "  agent_assigned_datetime call_end_datetime  \\\n",
       "0           8/1/2024 0:03     8/1/2024 0:34   \n",
       "1           8/1/2024 0:06     8/1/2024 0:18   \n",
       "\n",
       "                                     call_transcript  \n",
       "0  \\n\\nAgent: Thank you for calling United Airlin...  \n",
       "1  \\n\\nAgent: Thank you for calling United Airlin...  "
      ]
     },
     "execution_count": 509,
     "metadata": {},
     "output_type": "execute_result"
    }
   ],
   "source": [
    "calls.head(2)"
   ]
  },
  {
   "cell_type": "code",
   "execution_count": 511,
   "id": "16912acf-e465-4014-a1bc-be1e9654a266",
   "metadata": {},
   "outputs": [
    {
     "data": {
      "text/html": [
       "<div>\n",
       "<style scoped>\n",
       "    .dataframe tbody tr th:only-of-type {\n",
       "        vertical-align: middle;\n",
       "    }\n",
       "\n",
       "    .dataframe tbody tr th {\n",
       "        vertical-align: top;\n",
       "    }\n",
       "\n",
       "    .dataframe thead th {\n",
       "        text-align: right;\n",
       "    }\n",
       "</style>\n",
       "<table border=\"1\" class=\"dataframe\">\n",
       "  <thead>\n",
       "    <tr style=\"text-align: right;\">\n",
       "      <th></th>\n",
       "      <th>call_id</th>\n",
       "      <th>primary_call_reason</th>\n",
       "    </tr>\n",
       "  </thead>\n",
       "  <tbody>\n",
       "    <tr>\n",
       "      <th>0</th>\n",
       "      <td>4667960400</td>\n",
       "      <td>Voluntary  Cancel</td>\n",
       "    </tr>\n",
       "    <tr>\n",
       "      <th>1</th>\n",
       "      <td>1122072124</td>\n",
       "      <td>Booking</td>\n",
       "    </tr>\n",
       "  </tbody>\n",
       "</table>\n",
       "</div>"
      ],
      "text/plain": [
       "      call_id primary_call_reason\n",
       "0  4667960400   Voluntary  Cancel\n",
       "1  1122072124             Booking"
      ]
     },
     "execution_count": 511,
     "metadata": {},
     "output_type": "execute_result"
    }
   ],
   "source": [
    "reason.head(2)"
   ]
  },
  {
   "cell_type": "code",
   "execution_count": 513,
   "id": "06cc2668-c0fd-4537-b720-c1f68e100cdd",
   "metadata": {},
   "outputs": [
    {
     "data": {
      "text/html": [
       "<div>\n",
       "<style scoped>\n",
       "    .dataframe tbody tr th:only-of-type {\n",
       "        vertical-align: middle;\n",
       "    }\n",
       "\n",
       "    .dataframe tbody tr th {\n",
       "        vertical-align: top;\n",
       "    }\n",
       "\n",
       "    .dataframe thead th {\n",
       "        text-align: right;\n",
       "    }\n",
       "</style>\n",
       "<table border=\"1\" class=\"dataframe\">\n",
       "  <thead>\n",
       "    <tr style=\"text-align: right;\">\n",
       "      <th></th>\n",
       "      <th>call_id</th>\n",
       "      <th>agent_id</th>\n",
       "      <th>agent_tone</th>\n",
       "      <th>customer_tone</th>\n",
       "      <th>average_sentiment</th>\n",
       "      <th>silence_percent_average</th>\n",
       "    </tr>\n",
       "  </thead>\n",
       "  <tbody>\n",
       "    <tr>\n",
       "      <th>0</th>\n",
       "      <td>4667960400</td>\n",
       "      <td>963118</td>\n",
       "      <td>neutral</td>\n",
       "      <td>angry</td>\n",
       "      <td>-0.04</td>\n",
       "      <td>0.39</td>\n",
       "    </tr>\n",
       "    <tr>\n",
       "      <th>1</th>\n",
       "      <td>1122072124</td>\n",
       "      <td>519057</td>\n",
       "      <td>calm</td>\n",
       "      <td>neutral</td>\n",
       "      <td>0.02</td>\n",
       "      <td>0.35</td>\n",
       "    </tr>\n",
       "  </tbody>\n",
       "</table>\n",
       "</div>"
      ],
      "text/plain": [
       "      call_id  agent_id agent_tone customer_tone  average_sentiment  \\\n",
       "0  4667960400    963118    neutral         angry              -0.04   \n",
       "1  1122072124    519057       calm       neutral               0.02   \n",
       "\n",
       "   silence_percent_average  \n",
       "0                     0.39  \n",
       "1                     0.35  "
      ]
     },
     "execution_count": 513,
     "metadata": {},
     "output_type": "execute_result"
    }
   ],
   "source": [
    "sentiment.head(2)"
   ]
  },
  {
   "cell_type": "code",
   "execution_count": 515,
   "id": "2d1bdba3-5a2d-4af9-a4a9-4dca24d00481",
   "metadata": {},
   "outputs": [
    {
     "data": {
      "text/plain": [
       "call_id                    0\n",
       "customer_id                0\n",
       "agent_id                   0\n",
       "call_start_datetime        0\n",
       "agent_assigned_datetime    0\n",
       "call_end_datetime          0\n",
       "call_transcript            0\n",
       "dtype: int64"
      ]
     },
     "execution_count": 515,
     "metadata": {},
     "output_type": "execute_result"
    }
   ],
   "source": [
    "calls.isna().sum()"
   ]
  },
  {
   "cell_type": "code",
   "execution_count": 517,
   "id": "1df33a17-7638-4eeb-a4ac-76f36225f007",
   "metadata": {},
   "outputs": [
    {
     "data": {
      "text/plain": [
       "call_id                0\n",
       "primary_call_reason    0\n",
       "dtype: int64"
      ]
     },
     "execution_count": 517,
     "metadata": {},
     "output_type": "execute_result"
    }
   ],
   "source": [
    "reason.isna().sum()"
   ]
  },
  {
   "cell_type": "code",
   "execution_count": 519,
   "id": "faaf75ae-c4dc-4718-9023-50c7ee6866ee",
   "metadata": {},
   "outputs": [
    {
     "data": {
      "text/plain": [
       "call_id                      0\n",
       "agent_id                     0\n",
       "agent_tone                 217\n",
       "customer_tone                0\n",
       "average_sentiment          109\n",
       "silence_percent_average      0\n",
       "dtype: int64"
      ]
     },
     "execution_count": 519,
     "metadata": {},
     "output_type": "execute_result"
    }
   ],
   "source": [
    "sentiment.isna().sum()"
   ]
  },
  {
   "cell_type": "markdown",
   "id": "aed12127-9dd9-434d-be19-56d1bbc1e56c",
   "metadata": {},
   "source": [
    "*Calls and Reason dataframe does not have any missing values but sentimetn columns have some missing values that we need to impute*\r\n",
    "\r\n"
   ]
  },
  {
   "cell_type": "code",
   "execution_count": 521,
   "id": "346b6826-0374-4521-af21-6fb7555495ff",
   "metadata": {},
   "outputs": [
    {
     "data": {
      "text/plain": [
       "agent_tone\n",
       "neutral       42758\n",
       "calm          24675\n",
       "frustrated     3684\n",
       "angry           389\n",
       "polite           87\n",
       "Name: count, dtype: int64"
      ]
     },
     "execution_count": 521,
     "metadata": {},
     "output_type": "execute_result"
    }
   ],
   "source": [
    "sentiment['agent_tone'].value_counts()"
   ]
  },
  {
   "cell_type": "code",
   "execution_count": 523,
   "id": "82f4a2f8-dab8-4ec2-af69-1c39282c0313",
   "metadata": {},
   "outputs": [],
   "source": [
    "# Since the mode value for agent_tone is neutral so we are going to impute the null values with neutral \n",
    "sentiment['agent_tone'] = sentiment['agent_tone'].fillna('neutral')\n"
   ]
  },
  {
   "cell_type": "code",
   "execution_count": 525,
   "id": "15ea30eb-c8ad-42ee-a081-38b56e31ef3c",
   "metadata": {},
   "outputs": [
    {
     "data": {
      "text/plain": [
       "call_id                      0\n",
       "agent_id                     0\n",
       "agent_tone                   0\n",
       "customer_tone                0\n",
       "average_sentiment          109\n",
       "silence_percent_average      0\n",
       "dtype: int64"
      ]
     },
     "execution_count": 525,
     "metadata": {},
     "output_type": "execute_result"
    }
   ],
   "source": [
    "sentiment.isna().sum()"
   ]
  },
  {
   "cell_type": "code",
   "execution_count": 40,
   "id": "27004e4b-f139-4d82-9fa5-5c8de8aad4b7",
   "metadata": {},
   "outputs": [
    {
     "name": "stderr",
     "output_type": "stream",
     "text": [
      "C:\\Users\\Khan2\\anaconda3\\Lib\\site-packages\\seaborn\\_oldcore.py:1119: FutureWarning: use_inf_as_na option is deprecated and will be removed in a future version. Convert inf values to NaN before operating instead.\n",
      "  with pd.option_context('mode.use_inf_as_na', True):\n"
     ]
    },
    {
     "data": {
      "text/plain": [
       "<Axes: xlabel='average_sentiment', ylabel='Count'>"
      ]
     },
     "execution_count": 40,
     "metadata": {},
     "output_type": "execute_result"
    },
    {
     "data": {
      "image/png": "[encoded data removed]",
      "text/plain": [
       "<Figure size 640x480 with 1 Axes>"
      ]
     },
     "metadata": {},
     "output_type": "display_data"
    }
   ],
   "source": [
    "# average_sentiment null value imputation\n",
    "sns.histplot(sentiment['average_sentiment'])"
   ]
  },
  {
   "cell_type": "code",
   "execution_count": 527,
   "id": "3dacb081-a333-468e-b83e-b85d994233b5",
   "metadata": {},
   "outputs": [
    {
     "data": {
      "text/plain": [
       "<Axes: xlabel='average_sentiment'>"
      ]
     },
     "execution_count": 527,
     "metadata": {},
     "output_type": "execute_result"
    },
    {
     "data": {
      "image/png": "[encoded data removed]",
      "text/plain": [
       "<Figure size 640x480 with 1 Axes>"
      ]
     },
     "metadata": {},
     "output_type": "display_data"
    }
   ],
   "source": [
    "sns.boxplot(x = sentiment['average_sentiment'])"
   ]
  },
  {
   "cell_type": "code",
   "execution_count": 529,
   "id": "cba9d351-a6d6-486f-904c-14d01cbdc881",
   "metadata": {},
   "outputs": [],
   "source": [
    "# Since outliers are present in average_setiment_column\n",
    "mean = sentiment['average_sentiment'].mean()"
   ]
  },
  {
   "cell_type": "code",
   "execution_count": 531,
   "id": "99735c9e-5b7d-432d-8821-d22d3489ee40",
   "metadata": {},
   "outputs": [],
   "source": [
    "median = sentiment['average_sentiment'].median()"
   ]
  },
  {
   "cell_type": "code",
   "execution_count": 533,
   "id": "7446c8a7-6d10-422b-8681-d263b2c6c009",
   "metadata": {},
   "outputs": [
    {
     "name": "stderr",
     "output_type": "stream",
     "text": [
      "C:\\Users\\Khan2\\anaconda3\\Lib\\site-packages\\seaborn\\_oldcore.py:1119: FutureWarning: use_inf_as_na option is deprecated and will be removed in a future version. Convert inf values to NaN before operating instead.\n",
      "  with pd.option_context('mode.use_inf_as_na', True):\n"
     ]
    },
    {
     "data": {
      "text/plain": [
       "<Axes: xlabel='average_sentiment', ylabel='Density'>"
      ]
     },
     "execution_count": 533,
     "metadata": {},
     "output_type": "execute_result"
    },
    {
     "data": {
      "image/png": "[encoded data removed]",
      "text/plain": [
       "<Figure size 640x480 with 1 Axes>"
      ]
     },
     "metadata": {},
     "output_type": "display_data"
    }
   ],
   "source": [
    "sns.kdeplot(sentiment['average_sentiment'])"
   ]
  },
  {
   "cell_type": "code",
   "execution_count": 535,
   "id": "5479d59e-1962-4c9c-98c5-96c0f1324e93",
   "metadata": {},
   "outputs": [],
   "source": [
    "# We can see that average_sentiment is normally distrubuted hence we can impute the nan values with mean\n",
    "sentiment['average_sentiment'] = sentiment['average_sentiment'].fillna(median)"
   ]
  },
  {
   "cell_type": "code",
   "execution_count": 537,
   "id": "ec2365d9-6707-4431-b21e-f91b597b90a1",
   "metadata": {},
   "outputs": [
    {
     "data": {
      "text/plain": [
       "call_id                    0\n",
       "agent_id                   0\n",
       "agent_tone                 0\n",
       "customer_tone              0\n",
       "average_sentiment          0\n",
       "silence_percent_average    0\n",
       "dtype: int64"
      ]
     },
     "execution_count": 537,
     "metadata": {},
     "output_type": "execute_result"
    }
   ],
   "source": [
    "sentiment.isna().sum()"
   ]
  },
  {
   "cell_type": "markdown",
   "id": "0dbca8c6-b831-4b65-994d-d6227c3abaf7",
   "metadata": {},
   "source": [
    "## Datetime Conversion"
   ]
  },
  {
   "cell_type": "code",
   "execution_count": 539,
   "id": "32d9fdc2-600f-43aa-9e68-96959c061a2d",
   "metadata": {},
   "outputs": [
    {
     "data": {
      "text/html": [
       "<div>\n",
       "<style scoped>\n",
       "    .dataframe tbody tr th:only-of-type {\n",
       "        vertical-align: middle;\n",
       "    }\n",
       "\n",
       "    .dataframe tbody tr th {\n",
       "        vertical-align: top;\n",
       "    }\n",
       "\n",
       "    .dataframe thead th {\n",
       "        text-align: right;\n",
       "    }\n",
       "</style>\n",
       "<table border=\"1\" class=\"dataframe\">\n",
       "  <thead>\n",
       "    <tr style=\"text-align: right;\">\n",
       "      <th></th>\n",
       "      <th>call_id</th>\n",
       "      <th>customer_id</th>\n",
       "      <th>agent_id</th>\n",
       "      <th>call_start_datetime</th>\n",
       "      <th>agent_assigned_datetime</th>\n",
       "      <th>call_end_datetime</th>\n",
       "      <th>call_transcript</th>\n",
       "    </tr>\n",
       "  </thead>\n",
       "  <tbody>\n",
       "    <tr>\n",
       "      <th>0</th>\n",
       "      <td>4667960400</td>\n",
       "      <td>2033123310</td>\n",
       "      <td>963118</td>\n",
       "      <td>7/31/2024 23:56</td>\n",
       "      <td>8/1/2024 0:03</td>\n",
       "      <td>8/1/2024 0:34</td>\n",
       "      <td>\\n\\nAgent: Thank you for calling United Airlin...</td>\n",
       "    </tr>\n",
       "    <tr>\n",
       "      <th>1</th>\n",
       "      <td>1122072124</td>\n",
       "      <td>8186702651</td>\n",
       "      <td>519057</td>\n",
       "      <td>8/1/2024 0:03</td>\n",
       "      <td>8/1/2024 0:06</td>\n",
       "      <td>8/1/2024 0:18</td>\n",
       "      <td>\\n\\nAgent: Thank you for calling United Airlin...</td>\n",
       "    </tr>\n",
       "    <tr>\n",
       "      <th>2</th>\n",
       "      <td>6834291559</td>\n",
       "      <td>2416856629</td>\n",
       "      <td>158319</td>\n",
       "      <td>7/31/2024 23:59</td>\n",
       "      <td>8/1/2024 0:07</td>\n",
       "      <td>8/1/2024 0:26</td>\n",
       "      <td>\\n\\nAgent: Thank you for calling United Airlin...</td>\n",
       "    </tr>\n",
       "    <tr>\n",
       "      <th>3</th>\n",
       "      <td>2266439882</td>\n",
       "      <td>1154544516</td>\n",
       "      <td>488324</td>\n",
       "      <td>8/1/2024 0:05</td>\n",
       "      <td>8/1/2024 0:10</td>\n",
       "      <td>8/1/2024 0:17</td>\n",
       "      <td>\\n\\nAgent: Thank you for calling United Airlin...</td>\n",
       "    </tr>\n",
       "    <tr>\n",
       "      <th>4</th>\n",
       "      <td>1211603231</td>\n",
       "      <td>5214456437</td>\n",
       "      <td>721730</td>\n",
       "      <td>8/1/2024 0:04</td>\n",
       "      <td>8/1/2024 0:14</td>\n",
       "      <td>8/1/2024 0:23</td>\n",
       "      <td>\\n\\nAgent: Thank you for calling United Airlin...</td>\n",
       "    </tr>\n",
       "  </tbody>\n",
       "</table>\n",
       "</div>"
      ],
      "text/plain": [
       "      call_id  customer_id  agent_id call_start_datetime  \\\n",
       "0  4667960400   2033123310    963118     7/31/2024 23:56   \n",
       "1  1122072124   8186702651    519057       8/1/2024 0:03   \n",
       "2  6834291559   2416856629    158319     7/31/2024 23:59   \n",
       "3  2266439882   1154544516    488324       8/1/2024 0:05   \n",
       "4  1211603231   5214456437    721730       8/1/2024 0:04   \n",
       "\n",
       "  agent_assigned_datetime call_end_datetime  \\\n",
       "0           8/1/2024 0:03     8/1/2024 0:34   \n",
       "1           8/1/2024 0:06     8/1/2024 0:18   \n",
       "2           8/1/2024 0:07     8/1/2024 0:26   \n",
       "3           8/1/2024 0:10     8/1/2024 0:17   \n",
       "4           8/1/2024 0:14     8/1/2024 0:23   \n",
       "\n",
       "                                     call_transcript  \n",
       "0  \\n\\nAgent: Thank you for calling United Airlin...  \n",
       "1  \\n\\nAgent: Thank you for calling United Airlin...  \n",
       "2  \\n\\nAgent: Thank you for calling United Airlin...  \n",
       "3  \\n\\nAgent: Thank you for calling United Airlin...  \n",
       "4  \\n\\nAgent: Thank you for calling United Airlin...  "
      ]
     },
     "execution_count": 539,
     "metadata": {},
     "output_type": "execute_result"
    }
   ],
   "source": [
    "calls.head()"
   ]
  },
  {
   "cell_type": "code",
   "execution_count": 541,
   "id": "8017bd65-a380-4f81-88f0-87e4f2ed2a3c",
   "metadata": {},
   "outputs": [],
   "source": [
    "calls['call_start_datetime'] = pd.to_datetime(calls['call_start_datetime'])\n",
    "calls['call_end_datetime'] = pd.to_datetime(calls['call_end_datetime'])\n",
    "calls['agent_assigned_datetime'] = pd.to_datetime(calls['agent_assigned_datetime'])"
   ]
  },
  {
   "cell_type": "code",
   "execution_count": 543,
   "id": "5dbcc8a1-1564-4d12-bb85-560a8e087c7d",
   "metadata": {},
   "outputs": [
    {
     "name": "stdout",
     "output_type": "stream",
     "text": [
      "<class 'pandas.core.frame.DataFrame'>\n",
      "RangeIndex: 71810 entries, 0 to 71809\n",
      "Data columns (total 7 columns):\n",
      " #   Column                   Non-Null Count  Dtype         \n",
      "---  ------                   --------------  -----         \n",
      " 0   call_id                  71810 non-null  int64         \n",
      " 1   customer_id              71810 non-null  int64         \n",
      " 2   agent_id                 71810 non-null  int64         \n",
      " 3   call_start_datetime      71810 non-null  datetime64[ns]\n",
      " 4   agent_assigned_datetime  71810 non-null  datetime64[ns]\n",
      " 5   call_end_datetime        71810 non-null  datetime64[ns]\n",
      " 6   call_transcript          71810 non-null  object        \n",
      "dtypes: datetime64[ns](3), int64(3), object(1)\n",
      "memory usage: 3.8+ MB\n"
     ]
    }
   ],
   "source": [
    "calls.info()"
   ]
  },
  {
   "cell_type": "markdown",
   "id": "bd4d07d5-7f85-438c-b554-db44dbae8337",
   "metadata": {},
   "source": [
    "### * Calculating AHT AND AST \n",
    "* AHT(Average Handle Time)\n",
    "* AST (Average Speed to Answer)\n"
   ]
  },
  {
   "cell_type": "code",
   "execution_count": 545,
   "id": "18417364-00e6-4100-a061-7930f54dbbe6",
   "metadata": {},
   "outputs": [],
   "source": [
    "calls['handle_time'] = (calls['call_end_datetime'] - calls['agent_assigned_datetime']).dt.total_seconds() / 60"
   ]
  },
  {
   "cell_type": "code",
   "execution_count": 547,
   "id": "40622617-5e43-4ff8-9d21-fdd85332a271",
   "metadata": {},
   "outputs": [
    {
     "data": {
      "text/plain": [
       "12"
      ]
     },
     "execution_count": 547,
     "metadata": {},
     "output_type": "execute_result"
    }
   ],
   "source": [
    "AHT = round(calls['handle_time'].mean())\n",
    "AHT"
   ]
  },
  {
   "cell_type": "code",
   "execution_count": 556,
   "id": "c539b19f-161a-41db-a5ac-7904c8f1dc31",
   "metadata": {},
   "outputs": [
    {
     "data": {
      "text/plain": [
       "<Axes: xlabel='handle_time'>"
      ]
     },
     "execution_count": 556,
     "metadata": {},
     "output_type": "execute_result"
    },
    {
     "data": {
      "image/png": "[encoded data removed]",
      "text/plain": [
       "<Figure size 640x480 with 1 Axes>"
      ]
     },
     "metadata": {},
     "output_type": "display_data"
    }
   ],
   "source": [
    "sns.boxplot(x = calls['handle_time'])"
   ]
  },
  {
   "cell_type": "code",
   "execution_count": 558,
   "id": "bbf065b8-3adf-4615-b909-af1909c4ba5c",
   "metadata": {},
   "outputs": [
    {
     "data": {
      "text/plain": [
       "7.0"
      ]
     },
     "execution_count": 558,
     "metadata": {},
     "output_type": "execute_result"
    }
   ],
   "source": [
    "# Since Outliers are present in the dataset hence we take median as average \n",
    "calls['handle_time'].median()"
   ]
  },
  {
   "cell_type": "code",
   "execution_count": 549,
   "id": "f8f3beab-80da-4bef-843e-26e561928715",
   "metadata": {},
   "outputs": [],
   "source": [
    "# waiting time \n",
    "calls['waiting_time'] = (calls['agent_assigned_datetime'] - calls['call_start_datetime']).dt.total_seconds() / 60\n",
    "ast = calls['waiting_time'].mean()\n"
   ]
  },
  {
   "cell_type": "code",
   "execution_count": 551,
   "id": "d4185604-798a-45a8-8921-909c0c6f037b",
   "metadata": {},
   "outputs": [
    {
     "data": {
      "text/plain": [
       "7"
      ]
     },
     "execution_count": 551,
     "metadata": {},
     "output_type": "execute_result"
    }
   ],
   "source": [
    "\n",
    "round(ast)"
   ]
  },
  {
   "cell_type": "code",
   "execution_count": 560,
   "id": "a7787ec3-b5b2-4a60-bb2e-6d6781b090f1",
   "metadata": {},
   "outputs": [
    {
     "data": {
      "text/plain": [
       "<Axes: xlabel='waiting_time'>"
      ]
     },
     "execution_count": 560,
     "metadata": {},
     "output_type": "execute_result"
    },
    {
     "data": {
      "image/png": "[encoded data removed]",
      "text/plain": [
       "<Figure size 640x480 with 1 Axes>"
      ]
     },
     "metadata": {},
     "output_type": "display_data"
    }
   ],
   "source": [
    "sns.boxplot(x = calls['waiting_time'])"
   ]
  },
  {
   "cell_type": "markdown",
   "id": "1c357e76-e7b8-4b2a-9624-f1afc6ea3c4c",
   "metadata": {},
   "source": [
    "* AST(Average Service Time ) = 7 (Min) \n",
    "* AHT(Average Handeling Time) = 7 (Min) (Without outliers)"
   ]
  },
  {
   "cell_type": "markdown",
   "id": "fe5f1bb3-9dfc-4819-8e96-6d062ccb26dc",
   "metadata": {},
   "source": [
    "## Reason Data Set"
   ]
  },
  {
   "cell_type": "code",
   "execution_count": 568,
   "id": "75e066ef-c105-4d43-9ff2-0d7e817a0061",
   "metadata": {},
   "outputs": [
    {
     "data": {
      "text/plain": [
       "(66653, 2)"
      ]
     },
     "execution_count": 568,
     "metadata": {},
     "output_type": "execute_result"
    }
   ],
   "source": [
    "reason.shape"
   ]
  },
  {
   "cell_type": "code",
   "execution_count": 570,
   "id": "9561eb59-40c4-4772-b56b-564e9173bdea",
   "metadata": {},
   "outputs": [
    {
     "data": {
      "text/plain": [
       "54"
      ]
     },
     "execution_count": 570,
     "metadata": {},
     "output_type": "execute_result"
    }
   ],
   "source": [
    "reason['primary_call_reason'].nunique()"
   ]
  },
  {
   "cell_type": "code",
   "execution_count": 574,
   "id": "6f4ab337-e0b8-4d14-a8da-b5a57e36e00e",
   "metadata": {},
   "outputs": [
    {
     "data": {
      "text/plain": [
       "0"
      ]
     },
     "execution_count": 574,
     "metadata": {},
     "output_type": "execute_result"
    }
   ],
   "source": [
    "reason.duplicated().sum()"
   ]
  },
  {
   "cell_type": "code",
   "execution_count": 592,
   "id": "5f71b5af-954a-4b01-9946-f5d80b099402",
   "metadata": {},
   "outputs": [],
   "source": [
    "# Since there are some values which is having some trailing spaces \n",
    "reason['primary_call_reason'] = reason['primary_call_reason'].apply(lambda x : x.strip()) # trailing spaces removed\n",
    "reason['primary_call_reason'] = reason['primary_call_reason'].apply(lambda x: \" \".join(x.split()))"
   ]
  },
  {
   "cell_type": "code",
   "execution_count": 594,
   "id": "fb5f6cc6-74c8-4e05-bfc0-8efd79b58fc0",
   "metadata": {},
   "outputs": [
    {
     "data": {
      "text/plain": [
       "23"
      ]
     },
     "execution_count": 594,
     "metadata": {},
     "output_type": "execute_result"
    }
   ],
   "source": [
    "reason['primary_call_reason'].nunique()"
   ]
  },
  {
   "cell_type": "code",
   "execution_count": 800,
   "id": "d7d934da-fa72-4f9e-bdc0-acd491e43143",
   "metadata": {},
   "outputs": [],
   "source": [
    "reason['primary_call_reason']=reason['primary_call_reason'].apply(lambda x: \" \".join(x.split('-')))"
   ]
  },
  {
   "cell_type": "code",
   "execution_count": 802,
   "id": "99f8c6f2-07d4-4f56-89f5-057081e6e4fe",
   "metadata": {},
   "outputs": [
    {
     "data": {
      "text/plain": [
       "primary_call_reason\n",
       "IRROPS                   13311\n",
       "Voluntary Change         10848\n",
       "Seating                   6365\n",
       "Mileage Plus              5851\n",
       "Post Flight               4330\n",
       "Communications            3840\n",
       "Products and Services     2856\n",
       "Baggage                   2832\n",
       "Upgrade                   2738\n",
       "Booking                   2637\n",
       "Check In                  1904\n",
       "Checkout                  1888\n",
       "Voluntary Cancel          1607\n",
       "Digital Support           1225\n",
       "ETC                        952\n",
       "Traveler Updates           937\n",
       "Other Topics               818\n",
       "Schedule Change            731\n",
       "Products & Services        476\n",
       "Disability                 403\n",
       "Unaccompanied Minor        104\n",
       "Name: count, dtype: int64"
      ]
     },
     "execution_count": 802,
     "metadata": {},
     "output_type": "execute_result"
    }
   ],
   "source": [
    "reason['primary_call_reason'].value_counts()"
   ]
  },
  {
   "cell_type": "markdown",
   "id": "a9781e9f-2cba-444d-9eeb-7ce69f151ef0",
   "metadata": {},
   "source": [
    "## Table merging\n",
    "* calls\n",
    "* sentiment\n",
    "* reason\n",
    "* customer\n",
    "  "
   ]
  },
  {
   "cell_type": "code",
   "execution_count": 804,
   "id": "d4bfc23a-ce32-48cf-98a7-68da6de5a8ad",
   "metadata": {},
   "outputs": [],
   "source": [
    "# calls and reason table merge\n",
    "df = pd.merge(calls,reason,on = 'call_id',how = 'left')"
   ]
  },
  {
   "cell_type": "code",
   "execution_count": 806,
   "id": "4ee903ae-90ef-4027-8500-4d6237747ed4",
   "metadata": {},
   "outputs": [],
   "source": [
    "df  = pd.merge(df,sentiment,on = ('call_id','agent_id'),how = 'left')"
   ]
  },
  {
   "cell_type": "code",
   "execution_count": 808,
   "id": "b48e7af1-30b4-488f-93b6-41469719b786",
   "metadata": {},
   "outputs": [],
   "source": [
    "df = pd.merge(df,customer,on = 'customer_id',how = 'left')"
   ]
  },
  {
   "cell_type": "code",
   "execution_count": 810,
   "id": "8d4fdad8-8b7c-4bb6-853d-cc606f4d28f9",
   "metadata": {},
   "outputs": [
    {
     "data": {
      "text/html": [
       "<div>\n",
       "<style scoped>\n",
       "    .dataframe tbody tr th:only-of-type {\n",
       "        vertical-align: middle;\n",
       "    }\n",
       "\n",
       "    .dataframe tbody tr th {\n",
       "        vertical-align: top;\n",
       "    }\n",
       "\n",
       "    .dataframe thead th {\n",
       "        text-align: right;\n",
       "    }\n",
       "</style>\n",
       "<table border=\"1\" class=\"dataframe\">\n",
       "  <thead>\n",
       "    <tr style=\"text-align: right;\">\n",
       "      <th></th>\n",
       "      <th>call_id</th>\n",
       "      <th>customer_id</th>\n",
       "      <th>agent_id</th>\n",
       "      <th>call_start_datetime</th>\n",
       "      <th>agent_assigned_datetime</th>\n",
       "      <th>call_end_datetime</th>\n",
       "      <th>call_transcript</th>\n",
       "      <th>handle_time</th>\n",
       "      <th>waiting_time</th>\n",
       "      <th>primary_call_reason</th>\n",
       "      <th>agent_tone</th>\n",
       "      <th>customer_tone</th>\n",
       "      <th>average_sentiment</th>\n",
       "      <th>silence_percent_average</th>\n",
       "      <th>customer_name</th>\n",
       "      <th>elite_level_code</th>\n",
       "    </tr>\n",
       "  </thead>\n",
       "  <tbody>\n",
       "    <tr>\n",
       "      <th>0</th>\n",
       "      <td>4667960400</td>\n",
       "      <td>2033123310</td>\n",
       "      <td>963118</td>\n",
       "      <td>2024-07-31 23:56:00</td>\n",
       "      <td>2024-08-01 00:03:00</td>\n",
       "      <td>2024-08-01 00:34:00</td>\n",
       "      <td>\\n\\nAgent: Thank you for calling United Airlin...</td>\n",
       "      <td>31.0</td>\n",
       "      <td>7.0</td>\n",
       "      <td>Voluntary Cancel</td>\n",
       "      <td>neutral</td>\n",
       "      <td>angry</td>\n",
       "      <td>-0.04</td>\n",
       "      <td>0.39</td>\n",
       "      <td>Matthew Foster</td>\n",
       "      <td>4.0</td>\n",
       "    </tr>\n",
       "  </tbody>\n",
       "</table>\n",
       "</div>"
      ],
      "text/plain": [
       "      call_id  customer_id  agent_id call_start_datetime  \\\n",
       "0  4667960400   2033123310    963118 2024-07-31 23:56:00   \n",
       "\n",
       "  agent_assigned_datetime   call_end_datetime  \\\n",
       "0     2024-08-01 00:03:00 2024-08-01 00:34:00   \n",
       "\n",
       "                                     call_transcript  handle_time  \\\n",
       "0  \\n\\nAgent: Thank you for calling United Airlin...         31.0   \n",
       "\n",
       "   waiting_time primary_call_reason agent_tone customer_tone  \\\n",
       "0           7.0    Voluntary Cancel    neutral         angry   \n",
       "\n",
       "   average_sentiment  silence_percent_average   customer_name  \\\n",
       "0              -0.04                     0.39  Matthew Foster   \n",
       "\n",
       "   elite_level_code  \n",
       "0               4.0  "
      ]
     },
     "execution_count": 810,
     "metadata": {},
     "output_type": "execute_result"
    }
   ],
   "source": [
    "df.head(1)"
   ]
  },
  {
   "cell_type": "code",
   "execution_count": 812,
   "id": "32100e37-ded2-44c5-8577-1e3d157572dd",
   "metadata": {},
   "outputs": [
    {
     "data": {
      "text/plain": [
       "(71810, 16)"
      ]
     },
     "execution_count": 812,
     "metadata": {},
     "output_type": "execute_result"
    }
   ],
   "source": [
    "df.shape"
   ]
  },
  {
   "cell_type": "code",
   "execution_count": 814,
   "id": "1bcd4d04-2a9d-4a95-8eb0-697a337f2b44",
   "metadata": {},
   "outputs": [
    {
     "data": {
      "text/plain": [
       "0    IRROPS\n",
       "Name: primary_call_reason, dtype: object"
      ]
     },
     "execution_count": 814,
     "metadata": {},
     "output_type": "execute_result"
    }
   ],
   "source": [
    "value_impute = df['primary_call_reason'].mode()\n",
    "value_impute"
   ]
  },
  {
   "cell_type": "code",
   "execution_count": 816,
   "id": "11c3e25f-48bc-42eb-9638-b40096d8550c",
   "metadata": {},
   "outputs": [],
   "source": [
    "# Since there are null values in 2 columns we will impute the first with the mode\n",
    "df['primary_call_reason']=df['primary_call_reason'].fillna('IRROPS')"
   ]
  },
  {
   "cell_type": "code",
   "execution_count": 818,
   "id": "948142d1-b7de-459c-bfa7-ce893938ea23",
   "metadata": {},
   "outputs": [],
   "source": [
    "\n",
    "df['elite_level_code'] = df['elite_level_code'].fillna(0.0)"
   ]
  },
  {
   "cell_type": "code",
   "execution_count": 820,
   "id": "f3d312a1-e5fa-4f08-84d5-0e56e7c4f616",
   "metadata": {},
   "outputs": [
    {
     "data": {
      "text/plain": [
       "call_id                    0\n",
       "customer_id                0\n",
       "agent_id                   0\n",
       "call_start_datetime        0\n",
       "agent_assigned_datetime    0\n",
       "call_end_datetime          0\n",
       "call_transcript            0\n",
       "handle_time                0\n",
       "waiting_time               0\n",
       "primary_call_reason        0\n",
       "agent_tone                 0\n",
       "customer_tone              0\n",
       "average_sentiment          0\n",
       "silence_percent_average    0\n",
       "customer_name              0\n",
       "elite_level_code           0\n",
       "dtype: int64"
      ]
     },
     "execution_count": 820,
     "metadata": {},
     "output_type": "execute_result"
    }
   ],
   "source": [
    "df.isna().sum()"
   ]
  },
  {
   "cell_type": "code",
   "execution_count": 822,
   "id": "c0f93d6d-29d3-44ef-919a-b95d3df0c578",
   "metadata": {},
   "outputs": [],
   "source": [
    "# Feature Selection\n",
    "df1 = df.drop(columns = ['call_start_datetime','agent_assigned_datetime','call_end_datetime','call_transcript','call_id','customer_id','agent_id','customer_name'])"
   ]
  },
  {
   "cell_type": "code",
   "execution_count": 824,
   "id": "1d830ec8-7e34-4532-88bc-de33d43372fe",
   "metadata": {},
   "outputs": [
    {
     "data": {
      "text/html": [
       "<div>\n",
       "<style scoped>\n",
       "    .dataframe tbody tr th:only-of-type {\n",
       "        vertical-align: middle;\n",
       "    }\n",
       "\n",
       "    .dataframe tbody tr th {\n",
       "        vertical-align: top;\n",
       "    }\n",
       "\n",
       "    .dataframe thead th {\n",
       "        text-align: right;\n",
       "    }\n",
       "</style>\n",
       "<table border=\"1\" class=\"dataframe\">\n",
       "  <thead>\n",
       "    <tr style=\"text-align: right;\">\n",
       "      <th></th>\n",
       "      <th>handle_time</th>\n",
       "      <th>waiting_time</th>\n",
       "      <th>primary_call_reason</th>\n",
       "      <th>agent_tone</th>\n",
       "      <th>customer_tone</th>\n",
       "      <th>average_sentiment</th>\n",
       "      <th>silence_percent_average</th>\n",
       "      <th>elite_level_code</th>\n",
       "    </tr>\n",
       "  </thead>\n",
       "  <tbody>\n",
       "    <tr>\n",
       "      <th>0</th>\n",
       "      <td>31.0</td>\n",
       "      <td>7.0</td>\n",
       "      <td>Voluntary Cancel</td>\n",
       "      <td>neutral</td>\n",
       "      <td>angry</td>\n",
       "      <td>-0.04</td>\n",
       "      <td>0.39</td>\n",
       "      <td>4.0</td>\n",
       "    </tr>\n",
       "    <tr>\n",
       "      <th>1</th>\n",
       "      <td>12.0</td>\n",
       "      <td>3.0</td>\n",
       "      <td>Booking</td>\n",
       "      <td>calm</td>\n",
       "      <td>neutral</td>\n",
       "      <td>0.02</td>\n",
       "      <td>0.35</td>\n",
       "      <td>0.0</td>\n",
       "    </tr>\n",
       "  </tbody>\n",
       "</table>\n",
       "</div>"
      ],
      "text/plain": [
       "   handle_time  waiting_time primary_call_reason agent_tone customer_tone  \\\n",
       "0         31.0           7.0    Voluntary Cancel    neutral         angry   \n",
       "1         12.0           3.0             Booking       calm       neutral   \n",
       "\n",
       "   average_sentiment  silence_percent_average  elite_level_code  \n",
       "0              -0.04                     0.39               4.0  \n",
       "1               0.02                     0.35               0.0  "
      ]
     },
     "execution_count": 824,
     "metadata": {},
     "output_type": "execute_result"
    }
   ],
   "source": [
    "df1.head(2)"
   ]
  },
  {
   "cell_type": "markdown",
   "id": "be9f9072-2137-4ea1-8b7b-3acec33147c8",
   "metadata": {},
   "source": [
    "###  Exploratory Data Analysis\n",
    "*Goal: Identify patterns, trends, and potential issues in the data related to long AHT and AST.*"
   ]
  },
  {
   "cell_type": "code",
   "execution_count": 631,
   "id": "67391a70-591d-4b5c-bd98-07f215fa9685",
   "metadata": {},
   "outputs": [],
   "source": [
    "# df.to_csv('merged_file.csv', index=False)"
   ]
  },
  {
   "cell_type": "markdown",
   "id": "9171bc86-de6e-434c-ad10-8002c0d85b8d",
   "metadata": {},
   "source": [
    "*Distribution of AHT and AST: Plot the distribution of AHT and AST to identify long tail distributions or outliers.*"
   ]
  },
  {
   "cell_type": "code",
   "execution_count": 828,
   "id": "8072d481-e7cd-42b9-b3f8-9b8538f4b9e4",
   "metadata": {},
   "outputs": [
    {
     "name": "stderr",
     "output_type": "stream",
     "text": [
      "C:\\Users\\Khan2\\anaconda3\\Lib\\site-packages\\seaborn\\_oldcore.py:1119: FutureWarning: use_inf_as_na option is deprecated and will be removed in a future version. Convert inf values to NaN before operating instead.\n",
      "  with pd.option_context('mode.use_inf_as_na', True):\n"
     ]
    },
    {
     "data": {
      "text/plain": [
       "<Axes: xlabel='handle_time', ylabel='Count'>"
      ]
     },
     "execution_count": 828,
     "metadata": {},
     "output_type": "execute_result"
    },
    {
     "data": {
      "image/png": "[encoded data removed]",
      "text/plain": [
       "<Figure size 640x480 with 1 Axes>"
      ]
     },
     "metadata": {},
     "output_type": "display_data"
    }
   ],
   "source": [
    "sns.histplot(df1['handle_time'],kde = True)"
   ]
  },
  {
   "cell_type": "code",
   "execution_count": 830,
   "id": "19c24c94-e93a-4cc5-b057-19218cb114cf",
   "metadata": {},
   "outputs": [
    {
     "name": "stderr",
     "output_type": "stream",
     "text": [
      "C:\\Users\\Khan2\\anaconda3\\Lib\\site-packages\\seaborn\\_oldcore.py:1119: FutureWarning: use_inf_as_na option is deprecated and will be removed in a future version. Convert inf values to NaN before operating instead.\n",
      "  with pd.option_context('mode.use_inf_as_na', True):\n"
     ]
    },
    {
     "data": {
      "text/plain": [
       "<Axes: xlabel='waiting_time', ylabel='Count'>"
      ]
     },
     "execution_count": 830,
     "metadata": {},
     "output_type": "execute_result"
    },
    {
     "data": {
      "image/png": "[encoded data removed]",
      "text/plain": [
       "<Figure size 640x480 with 1 Axes>"
      ]
     },
     "metadata": {},
     "output_type": "display_data"
    }
   ],
   "source": [
    "sns.histplot(df1['waiting_time'],bins = 15,kde = True)"
   ]
  },
  {
   "cell_type": "code",
   "execution_count": 832,
   "id": "90807603-2032-4dd8-bd75-c93dabbe16fa",
   "metadata": {},
   "outputs": [
    {
     "data": {
      "text/plain": [
       "<Axes: xlabel='waiting_time'>"
      ]
     },
     "execution_count": 832,
     "metadata": {},
     "output_type": "execute_result"
    },
    {
     "data": {
      "image/png": "[encoded data removed]",
      "text/plain": [
       "<Figure size 640x480 with 1 Axes>"
      ]
     },
     "metadata": {},
     "output_type": "display_data"
    }
   ],
   "source": [
    "sns.boxplot(x = df1['waiting_time'])"
   ]
  },
  {
   "cell_type": "code",
   "execution_count": 834,
   "id": "f130bf5f-6e9d-41c7-be3c-c4e4c413fce5",
   "metadata": {},
   "outputs": [
    {
     "data": {
      "text/plain": [
       "<Axes: xlabel='handle_time'>"
      ]
     },
     "execution_count": 834,
     "metadata": {},
     "output_type": "execute_result"
    },
    {
     "data": {
      "image/png": "[encoded data removed]",
      "text/plain": [
       "<Figure size 640x480 with 1 Axes>"
      ]
     },
     "metadata": {},
     "output_type": "display_data"
    }
   ],
   "source": [
    "sns.boxplot(x = df1['handle_time'])"
   ]
  },
  {
   "cell_type": "markdown",
   "id": "f0068c12-f98a-4598-a4aa-db356f0009c1",
   "metadata": {},
   "source": [
    "*Since Outliers are present in handle_time hense to see the centeral tendency value we will see median*\n"
   ]
  },
  {
   "cell_type": "code",
   "execution_count": 840,
   "id": "d0c1b135-54db-4dc5-89e4-7061ea39a091",
   "metadata": {},
   "outputs": [
    {
     "data": {
      "text/plain": [
       "11.61747667455786"
      ]
     },
     "execution_count": 840,
     "metadata": {},
     "output_type": "execute_result"
    }
   ],
   "source": [
    "df1['handle_time'].mean()\n"
   ]
  },
  {
   "cell_type": "code",
   "execution_count": 838,
   "id": "234c05e5-5e56-450d-bcf5-09e0f18ef8ba",
   "metadata": {},
   "outputs": [
    {
     "data": {
      "text/plain": [
       "7.284458988998747"
      ]
     },
     "execution_count": 838,
     "metadata": {},
     "output_type": "execute_result"
    }
   ],
   "source": [
    "df['waiting_time'].mean()"
   ]
  },
  {
   "cell_type": "code",
   "execution_count": 963,
   "id": "855a626a-717d-4de2-8395-03429d4321f0",
   "metadata": {},
   "outputs": [
    {
     "data": {
      "text/plain": [
       "(71810, 16)"
      ]
     },
     "execution_count": 963,
     "metadata": {},
     "output_type": "execute_result"
    }
   ],
   "source": [
    "df.shape"
   ]
  },
  {
   "cell_type": "markdown",
   "id": "25167ceb-6b9c-48a1-9d43-78a083dbc220",
   "metadata": {},
   "source": [
    "* ### Correlation Analysis: Check correlations between AHT/AST and other factors (e.g., average_sentiment, agent_tone, customer_tone).*"
   ]
  },
  {
   "cell_type": "code",
   "execution_count": 842,
   "id": "f1292dfc-f2f9-4791-afde-be4c34dc8df3",
   "metadata": {},
   "outputs": [
    {
     "data": {
      "text/html": [
       "<div>\n",
       "<style scoped>\n",
       "    .dataframe tbody tr th:only-of-type {\n",
       "        vertical-align: middle;\n",
       "    }\n",
       "\n",
       "    .dataframe tbody tr th {\n",
       "        vertical-align: top;\n",
       "    }\n",
       "\n",
       "    .dataframe thead th {\n",
       "        text-align: right;\n",
       "    }\n",
       "</style>\n",
       "<table border=\"1\" class=\"dataframe\">\n",
       "  <thead>\n",
       "    <tr style=\"text-align: right;\">\n",
       "      <th></th>\n",
       "      <th>handle_time</th>\n",
       "      <th>average_sentiment</th>\n",
       "      <th>silence_percent_average</th>\n",
       "      <th>waiting_time</th>\n",
       "    </tr>\n",
       "  </thead>\n",
       "  <tbody>\n",
       "    <tr>\n",
       "      <th>handle_time</th>\n",
       "      <td>1.000000</td>\n",
       "      <td>-0.076057</td>\n",
       "      <td>0.406883</td>\n",
       "      <td>-0.027778</td>\n",
       "    </tr>\n",
       "    <tr>\n",
       "      <th>average_sentiment</th>\n",
       "      <td>-0.076057</td>\n",
       "      <td>1.000000</td>\n",
       "      <td>0.035297</td>\n",
       "      <td>0.039867</td>\n",
       "    </tr>\n",
       "    <tr>\n",
       "      <th>silence_percent_average</th>\n",
       "      <td>0.406883</td>\n",
       "      <td>0.035297</td>\n",
       "      <td>1.000000</td>\n",
       "      <td>-0.012068</td>\n",
       "    </tr>\n",
       "    <tr>\n",
       "      <th>waiting_time</th>\n",
       "      <td>-0.027778</td>\n",
       "      <td>0.039867</td>\n",
       "      <td>-0.012068</td>\n",
       "      <td>1.000000</td>\n",
       "    </tr>\n",
       "  </tbody>\n",
       "</table>\n",
       "</div>"
      ],
      "text/plain": [
       "                         handle_time  average_sentiment  \\\n",
       "handle_time                 1.000000          -0.076057   \n",
       "average_sentiment          -0.076057           1.000000   \n",
       "silence_percent_average     0.406883           0.035297   \n",
       "waiting_time               -0.027778           0.039867   \n",
       "\n",
       "                         silence_percent_average  waiting_time  \n",
       "handle_time                             0.406883     -0.027778  \n",
       "average_sentiment                       0.035297      0.039867  \n",
       "silence_percent_average                 1.000000     -0.012068  \n",
       "waiting_time                           -0.012068      1.000000  "
      ]
     },
     "execution_count": 842,
     "metadata": {},
     "output_type": "execute_result"
    }
   ],
   "source": [
    "df1[['handle_time', 'average_sentiment', 'silence_percent_average','waiting_time']].corr()\n"
   ]
  },
  {
   "cell_type": "markdown",
   "id": "9e01795d-5e64-4ca3-bcf1-27935483b9a6",
   "metadata": {},
   "source": [
    "*There is .41 positive correlation between handle_time and silence_percent_average*"
   ]
  },
  {
   "cell_type": "markdown",
   "id": "2916be5e-df0f-452f-920a-0ec06ecd79c2",
   "metadata": {},
   "source": [
    "### primary_call_reason preprocessing"
   ]
  },
  {
   "cell_type": "code",
   "execution_count": 844,
   "id": "0c468de3-6a59-4711-adbd-233bdc4cad2b",
   "metadata": {},
   "outputs": [
    {
     "data": {
      "text/plain": [
       "primary_call_reason\n",
       "IRROPS                   18468\n",
       "Voluntary Change         10848\n",
       "Seating                   6365\n",
       "Mileage Plus              5851\n",
       "Post Flight               4330\n",
       "Communications            3840\n",
       "Products and Services     2856\n",
       "Baggage                   2832\n",
       "Upgrade                   2738\n",
       "Booking                   2637\n",
       "Check In                  1904\n",
       "Checkout                  1888\n",
       "Voluntary Cancel          1607\n",
       "Digital Support           1225\n",
       "ETC                        952\n",
       "Traveler Updates           937\n",
       "Other Topics               818\n",
       "Schedule Change            731\n",
       "Products & Services        476\n",
       "Disability                 403\n",
       "Unaccompanied Minor        104\n",
       "Name: count, dtype: int64"
      ]
     },
     "execution_count": 844,
     "metadata": {},
     "output_type": "execute_result"
    }
   ],
   "source": [
    "df1['primary_call_reason'].value_counts()"
   ]
  },
  {
   "cell_type": "code",
   "execution_count": 846,
   "id": "8ee81559-be2a-4483-934a-413c13aba44b",
   "metadata": {},
   "outputs": [],
   "source": [
    "least_frequent_reason = df1[df1['primary_call_reason']=='Unaccompanied Minor']['handle_time'].mean()"
   ]
  },
  {
   "cell_type": "code",
   "execution_count": 848,
   "id": "4ecedea7-1991-4b0d-924f-b20b7f2316c9",
   "metadata": {},
   "outputs": [],
   "source": [
    "most_frequent_reason = df1[df1['primary_call_reason']=='IRROPS']['handle_time'].mean()"
   ]
  },
  {
   "cell_type": "code",
   "execution_count": 850,
   "id": "a90f3dac-96a8-40fe-9f1a-4546811af97e",
   "metadata": {},
   "outputs": [
    {
     "data": {
      "text/plain": [
       "46.382258802011904"
      ]
     },
     "execution_count": 850,
     "metadata": {},
     "output_type": "execute_result"
    }
   ],
   "source": [
    "((most_frequent_reason-least_frequent_reason)/least_frequent_reason)*100"
   ]
  },
  {
   "cell_type": "markdown",
   "id": "464eac52-d3f8-46e3-9af0-18fb58943ca0",
   "metadata": {},
   "source": [
    "# *AHT by most frequent reason are 46% higher than least frequent reason*"
   ]
  },
  {
   "cell_type": "code",
   "execution_count": 852,
   "id": "6a789a41-e661-4b92-ab51-171c4709e4cd",
   "metadata": {},
   "outputs": [
    {
     "data": {
      "text/html": [
       "<div>\n",
       "<style scoped>\n",
       "    .dataframe tbody tr th:only-of-type {\n",
       "        vertical-align: middle;\n",
       "    }\n",
       "\n",
       "    .dataframe tbody tr th {\n",
       "        vertical-align: top;\n",
       "    }\n",
       "\n",
       "    .dataframe thead th {\n",
       "        text-align: right;\n",
       "    }\n",
       "</style>\n",
       "<table border=\"1\" class=\"dataframe\">\n",
       "  <thead>\n",
       "    <tr style=\"text-align: right;\">\n",
       "      <th></th>\n",
       "      <th>handle_time</th>\n",
       "      <th>waiting_time</th>\n",
       "      <th>primary_call_reason</th>\n",
       "      <th>agent_tone</th>\n",
       "      <th>customer_tone</th>\n",
       "      <th>average_sentiment</th>\n",
       "      <th>silence_percent_average</th>\n",
       "      <th>elite_level_code</th>\n",
       "    </tr>\n",
       "  </thead>\n",
       "  <tbody>\n",
       "    <tr>\n",
       "      <th>0</th>\n",
       "      <td>31.0</td>\n",
       "      <td>7.0</td>\n",
       "      <td>Voluntary Cancel</td>\n",
       "      <td>neutral</td>\n",
       "      <td>angry</td>\n",
       "      <td>-0.04</td>\n",
       "      <td>0.39</td>\n",
       "      <td>4.0</td>\n",
       "    </tr>\n",
       "    <tr>\n",
       "      <th>1</th>\n",
       "      <td>12.0</td>\n",
       "      <td>3.0</td>\n",
       "      <td>Booking</td>\n",
       "      <td>calm</td>\n",
       "      <td>neutral</td>\n",
       "      <td>0.02</td>\n",
       "      <td>0.35</td>\n",
       "      <td>0.0</td>\n",
       "    </tr>\n",
       "    <tr>\n",
       "      <th>2</th>\n",
       "      <td>19.0</td>\n",
       "      <td>8.0</td>\n",
       "      <td>IRROPS</td>\n",
       "      <td>neutral</td>\n",
       "      <td>polite</td>\n",
       "      <td>-0.13</td>\n",
       "      <td>0.32</td>\n",
       "      <td>0.0</td>\n",
       "    </tr>\n",
       "    <tr>\n",
       "      <th>3</th>\n",
       "      <td>7.0</td>\n",
       "      <td>5.0</td>\n",
       "      <td>Upgrade</td>\n",
       "      <td>neutral</td>\n",
       "      <td>frustrated</td>\n",
       "      <td>-0.20</td>\n",
       "      <td>0.20</td>\n",
       "      <td>2.0</td>\n",
       "    </tr>\n",
       "    <tr>\n",
       "      <th>4</th>\n",
       "      <td>9.0</td>\n",
       "      <td>10.0</td>\n",
       "      <td>Seating</td>\n",
       "      <td>neutral</td>\n",
       "      <td>polite</td>\n",
       "      <td>-0.05</td>\n",
       "      <td>0.35</td>\n",
       "      <td>0.0</td>\n",
       "    </tr>\n",
       "  </tbody>\n",
       "</table>\n",
       "</div>"
      ],
      "text/plain": [
       "   handle_time  waiting_time primary_call_reason agent_tone customer_tone  \\\n",
       "0         31.0           7.0    Voluntary Cancel    neutral         angry   \n",
       "1         12.0           3.0             Booking       calm       neutral   \n",
       "2         19.0           8.0              IRROPS    neutral        polite   \n",
       "3          7.0           5.0             Upgrade    neutral    frustrated   \n",
       "4          9.0          10.0             Seating    neutral        polite   \n",
       "\n",
       "   average_sentiment  silence_percent_average  elite_level_code  \n",
       "0              -0.04                     0.39               4.0  \n",
       "1               0.02                     0.35               0.0  \n",
       "2              -0.13                     0.32               0.0  \n",
       "3              -0.20                     0.20               2.0  \n",
       "4              -0.05                     0.35               0.0  "
      ]
     },
     "execution_count": 852,
     "metadata": {},
     "output_type": "execute_result"
    }
   ],
   "source": [
    "df1.head()"
   ]
  },
  {
   "cell_type": "code",
   "execution_count": 854,
   "id": "72a087db-c90a-4b68-af85-eb9982cefa8b",
   "metadata": {},
   "outputs": [
    {
     "name": "stdout",
     "output_type": "stream",
     "text": [
      "   agent_tone  handle_time\n",
      "0     neutral    12.468621\n",
      "1        calm    10.441662\n",
      "2  frustrated    10.284473\n",
      "3       angry     6.573265\n",
      "4      polite     3.666667\n"
     ]
    }
   ],
   "source": [
    "## Agent Tone and handle time\n",
    "agent_tone_grouped = df1.groupby('agent_tone').agg({\n",
    "    'handle_time':'mean'\n",
    "}).sort_values(by = 'handle_time',ascending = False)\n",
    "\n",
    "agent_tone_grouped=agent_tone_grouped.reset_index()\n",
    "print(agent_tone_grouped)"
   ]
  },
  {
   "cell_type": "code",
   "execution_count": 856,
   "id": "bb144f2a-0b04-48e2-b9e1-8f396c0e96b9",
   "metadata": {},
   "outputs": [
    {
     "data": {
      "text/plain": [
       "<Axes: xlabel='agent_tone', ylabel='handle_time'>"
      ]
     },
     "execution_count": 856,
     "metadata": {},
     "output_type": "execute_result"
    },
    {
     "data": {
      "image/png": "[encoded data removed]",
      "text/plain": [
       "<Figure size 640x480 with 1 Axes>"
      ]
     },
     "metadata": {},
     "output_type": "display_data"
    }
   ],
   "source": [
    "sns.barplot(x = agent_tone_grouped['agent_tone'],y = agent_tone_grouped['handle_time'])"
   ]
  },
  {
   "cell_type": "code",
   "execution_count": 858,
   "id": "38aca5c0-0dd5-4ccf-8dd6-6dcf0c3376e9",
   "metadata": {},
   "outputs": [
    {
     "name": "stdout",
     "output_type": "stream",
     "text": [
      "  customer_tone  handle_time\n",
      "0       neutral    11.793755\n",
      "1          calm    11.660068\n",
      "2         angry    11.592171\n",
      "3    frustrated    11.545646\n",
      "4        polite    11.494329\n"
     ]
    }
   ],
   "source": [
    "## Customer Tone and handle time\n",
    "cust_tone_grouped = df1.groupby('customer_tone').agg({\n",
    "    'handle_time':'mean'\n",
    "}).sort_values(by = 'handle_time',ascending = False)\n",
    "\n",
    "cust_tone_grouped=cust_tone_grouped.reset_index()\n",
    "print(cust_tone_grouped)"
   ]
  },
  {
   "cell_type": "code",
   "execution_count": 732,
   "id": "804180d0-46d5-43ad-be7a-629301e4d5d4",
   "metadata": {},
   "outputs": [
    {
     "data": {
      "text/plain": [
       "<Axes: xlabel='customer_tone', ylabel='handle_time'>"
      ]
     },
     "execution_count": 732,
     "metadata": {},
     "output_type": "execute_result"
    },
    {
     "data": {
      "image/png": "[encoded data removed]",
      "text/plain": [
       "<Figure size 640x480 with 1 Axes>"
      ]
     },
     "metadata": {},
     "output_type": "display_data"
    }
   ],
   "source": [
    "sns.barplot(x = cust_tone_grouped['customer_tone'],y = cust_tone_grouped['handle_time'])"
   ]
  },
  {
   "cell_type": "markdown",
   "id": "29664fd9-f244-41e6-825c-91d8b0e4f113",
   "metadata": {},
   "source": [
    "* We can see from the above graph that handle time is independent of Customer_tone\n",
    "* But Handle time depends on agent_tone as polite tone leads to least Average handle time hence can serve more calls"
   ]
  },
  {
   "cell_type": "code",
   "execution_count": 966,
   "id": "14e34271-40dd-4527-897b-c768562698f5",
   "metadata": {},
   "outputs": [
    {
     "data": {
      "text/html": [
       "<div>\n",
       "<style scoped>\n",
       "    .dataframe tbody tr th:only-of-type {\n",
       "        vertical-align: middle;\n",
       "    }\n",
       "\n",
       "    .dataframe tbody tr th {\n",
       "        vertical-align: top;\n",
       "    }\n",
       "\n",
       "    .dataframe thead th {\n",
       "        text-align: right;\n",
       "    }\n",
       "</style>\n",
       "<table border=\"1\" class=\"dataframe\">\n",
       "  <thead>\n",
       "    <tr style=\"text-align: right;\">\n",
       "      <th></th>\n",
       "      <th>customer_tone</th>\n",
       "      <th>waiting_time</th>\n",
       "    </tr>\n",
       "  </thead>\n",
       "  <tbody>\n",
       "    <tr>\n",
       "      <th>0</th>\n",
       "      <td>calm</td>\n",
       "      <td>7.297205</td>\n",
       "    </tr>\n",
       "    <tr>\n",
       "      <th>1</th>\n",
       "      <td>neutral</td>\n",
       "      <td>7.295901</td>\n",
       "    </tr>\n",
       "    <tr>\n",
       "      <th>2</th>\n",
       "      <td>frustrated</td>\n",
       "      <td>7.280056</td>\n",
       "    </tr>\n",
       "    <tr>\n",
       "      <th>3</th>\n",
       "      <td>polite</td>\n",
       "      <td>7.274998</td>\n",
       "    </tr>\n",
       "    <tr>\n",
       "      <th>4</th>\n",
       "      <td>angry</td>\n",
       "      <td>7.274084</td>\n",
       "    </tr>\n",
       "  </tbody>\n",
       "</table>\n",
       "</div>"
      ],
      "text/plain": [
       "  customer_tone  waiting_time\n",
       "0          calm      7.297205\n",
       "1       neutral      7.295901\n",
       "2    frustrated      7.280056\n",
       "3        polite      7.274998\n",
       "4         angry      7.274084"
      ]
     },
     "execution_count": 966,
     "metadata": {},
     "output_type": "execute_result"
    }
   ],
   "source": [
    "# Waiting time and customer_tone \n",
    "# Here we can also create a predictive model which could tell us about the tone of the customer based on waiting time of the customer\n",
    "df1.groupby('customer_tone').agg(({\n",
    "    'waiting_time':'mean'\n",
    "})).sort_values(by = 'waiting_time',ascending = False).reset_index()"
   ]
  },
  {
   "cell_type": "markdown",
   "id": "c8fbb7d0-bde8-41da-bf67-850f2256ce40",
   "metadata": {},
   "source": [
    "From the above table we can say that customer_tone is independt of waiting time "
   ]
  },
  {
   "cell_type": "code",
   "execution_count": 862,
   "id": "7c94da4e-7226-4cd1-9ddf-4a90371a43a4",
   "metadata": {},
   "outputs": [
    {
     "name": "stderr",
     "output_type": "stream",
     "text": [
      "C:\\Users\\Khan2\\anaconda3\\Lib\\site-packages\\seaborn\\_oldcore.py:1119: FutureWarning: use_inf_as_na option is deprecated and will be removed in a future version. Convert inf values to NaN before operating instead.\n",
      "  with pd.option_context('mode.use_inf_as_na', True):\n"
     ]
    },
    {
     "data": {
      "text/plain": [
       "<Axes: xlabel='average_sentiment', ylabel='Density'>"
      ]
     },
     "execution_count": 862,
     "metadata": {},
     "output_type": "execute_result"
    },
    {
     "data": {
      "image/png": "[encoded data removed]",
      "text/plain": [
       "<Figure size 640x480 with 1 Axes>"
      ]
     },
     "metadata": {},
     "output_type": "display_data"
    }
   ],
   "source": [
    "sns.kdeplot(df1['average_sentiment'])"
   ]
  },
  {
   "cell_type": "code",
   "execution_count": 864,
   "id": "6f61f566-1fe4-4d48-a8a8-6b2fe8491bf0",
   "metadata": {},
   "outputs": [],
   "source": [
    "# average_sentiment score effect on Aht \n",
    "def conversation_type(score):\n",
    "    if score>0:\n",
    "        return \"positive\"\n",
    "    elif score==0:\n",
    "        return \"neutral\"\n",
    "    else:\n",
    "        return \"negative\"\n",
    "    "
   ]
  },
  {
   "cell_type": "code",
   "execution_count": 866,
   "id": "bf004db4-087f-4cf8-9141-b4669f78d926",
   "metadata": {},
   "outputs": [],
   "source": [
    "df1['conversation_type']= df1['average_sentiment'].apply(conversation_type)"
   ]
  },
  {
   "cell_type": "code",
   "execution_count": 868,
   "id": "b9da651a-b14a-4f7e-aec7-76eacbbfb6ca",
   "metadata": {},
   "outputs": [
    {
     "data": {
      "text/html": [
       "<div>\n",
       "<style scoped>\n",
       "    .dataframe tbody tr th:only-of-type {\n",
       "        vertical-align: middle;\n",
       "    }\n",
       "\n",
       "    .dataframe tbody tr th {\n",
       "        vertical-align: top;\n",
       "    }\n",
       "\n",
       "    .dataframe thead th {\n",
       "        text-align: right;\n",
       "    }\n",
       "</style>\n",
       "<table border=\"1\" class=\"dataframe\">\n",
       "  <thead>\n",
       "    <tr style=\"text-align: right;\">\n",
       "      <th></th>\n",
       "      <th>handle_time</th>\n",
       "      <th>waiting_time</th>\n",
       "      <th>primary_call_reason</th>\n",
       "      <th>agent_tone</th>\n",
       "      <th>customer_tone</th>\n",
       "      <th>average_sentiment</th>\n",
       "      <th>silence_percent_average</th>\n",
       "      <th>elite_level_code</th>\n",
       "      <th>conversation_type</th>\n",
       "    </tr>\n",
       "  </thead>\n",
       "  <tbody>\n",
       "    <tr>\n",
       "      <th>0</th>\n",
       "      <td>31.0</td>\n",
       "      <td>7.0</td>\n",
       "      <td>Voluntary Cancel</td>\n",
       "      <td>neutral</td>\n",
       "      <td>angry</td>\n",
       "      <td>-0.04</td>\n",
       "      <td>0.39</td>\n",
       "      <td>4.0</td>\n",
       "      <td>negative</td>\n",
       "    </tr>\n",
       "    <tr>\n",
       "      <th>1</th>\n",
       "      <td>12.0</td>\n",
       "      <td>3.0</td>\n",
       "      <td>Booking</td>\n",
       "      <td>calm</td>\n",
       "      <td>neutral</td>\n",
       "      <td>0.02</td>\n",
       "      <td>0.35</td>\n",
       "      <td>0.0</td>\n",
       "      <td>positive</td>\n",
       "    </tr>\n",
       "    <tr>\n",
       "      <th>2</th>\n",
       "      <td>19.0</td>\n",
       "      <td>8.0</td>\n",
       "      <td>IRROPS</td>\n",
       "      <td>neutral</td>\n",
       "      <td>polite</td>\n",
       "      <td>-0.13</td>\n",
       "      <td>0.32</td>\n",
       "      <td>0.0</td>\n",
       "      <td>negative</td>\n",
       "    </tr>\n",
       "    <tr>\n",
       "      <th>3</th>\n",
       "      <td>7.0</td>\n",
       "      <td>5.0</td>\n",
       "      <td>Upgrade</td>\n",
       "      <td>neutral</td>\n",
       "      <td>frustrated</td>\n",
       "      <td>-0.20</td>\n",
       "      <td>0.20</td>\n",
       "      <td>2.0</td>\n",
       "      <td>negative</td>\n",
       "    </tr>\n",
       "    <tr>\n",
       "      <th>4</th>\n",
       "      <td>9.0</td>\n",
       "      <td>10.0</td>\n",
       "      <td>Seating</td>\n",
       "      <td>neutral</td>\n",
       "      <td>polite</td>\n",
       "      <td>-0.05</td>\n",
       "      <td>0.35</td>\n",
       "      <td>0.0</td>\n",
       "      <td>negative</td>\n",
       "    </tr>\n",
       "  </tbody>\n",
       "</table>\n",
       "</div>"
      ],
      "text/plain": [
       "   handle_time  waiting_time primary_call_reason agent_tone customer_tone  \\\n",
       "0         31.0           7.0    Voluntary Cancel    neutral         angry   \n",
       "1         12.0           3.0             Booking       calm       neutral   \n",
       "2         19.0           8.0              IRROPS    neutral        polite   \n",
       "3          7.0           5.0             Upgrade    neutral    frustrated   \n",
       "4          9.0          10.0             Seating    neutral        polite   \n",
       "\n",
       "   average_sentiment  silence_percent_average  elite_level_code  \\\n",
       "0              -0.04                     0.39               4.0   \n",
       "1               0.02                     0.35               0.0   \n",
       "2              -0.13                     0.32               0.0   \n",
       "3              -0.20                     0.20               2.0   \n",
       "4              -0.05                     0.35               0.0   \n",
       "\n",
       "  conversation_type  \n",
       "0          negative  \n",
       "1          positive  \n",
       "2          negative  \n",
       "3          negative  \n",
       "4          negative  "
      ]
     },
     "execution_count": 868,
     "metadata": {},
     "output_type": "execute_result"
    }
   ],
   "source": [
    "df1.head()"
   ]
  },
  {
   "cell_type": "code",
   "execution_count": 870,
   "id": "e8fcdc5f-9713-4981-bb59-c655358ea2e6",
   "metadata": {},
   "outputs": [],
   "source": [
    "conversation_grouped = df1.groupby('conversation_type').agg({\n",
    "    \"handle_time\":\"mean\"\n",
    "}).sort_values(by = 'handle_time',ascending = False).reset_index()"
   ]
  },
  {
   "cell_type": "code",
   "execution_count": 872,
   "id": "27c38f0d-3d44-4d8d-99d9-b497272bfcd5",
   "metadata": {},
   "outputs": [
    {
     "data": {
      "text/html": [
       "<div>\n",
       "<style scoped>\n",
       "    .dataframe tbody tr th:only-of-type {\n",
       "        vertical-align: middle;\n",
       "    }\n",
       "\n",
       "    .dataframe tbody tr th {\n",
       "        vertical-align: top;\n",
       "    }\n",
       "\n",
       "    .dataframe thead th {\n",
       "        text-align: right;\n",
       "    }\n",
       "</style>\n",
       "<table border=\"1\" class=\"dataframe\">\n",
       "  <thead>\n",
       "    <tr style=\"text-align: right;\">\n",
       "      <th></th>\n",
       "      <th>conversation_type</th>\n",
       "      <th>handle_time</th>\n",
       "    </tr>\n",
       "  </thead>\n",
       "  <tbody>\n",
       "    <tr>\n",
       "      <th>0</th>\n",
       "      <td>negative</td>\n",
       "      <td>13.540561</td>\n",
       "    </tr>\n",
       "    <tr>\n",
       "      <th>1</th>\n",
       "      <td>positive</td>\n",
       "      <td>10.417858</td>\n",
       "    </tr>\n",
       "    <tr>\n",
       "      <th>2</th>\n",
       "      <td>neutral</td>\n",
       "      <td>6.422699</td>\n",
       "    </tr>\n",
       "  </tbody>\n",
       "</table>\n",
       "</div>"
      ],
      "text/plain": [
       "  conversation_type  handle_time\n",
       "0          negative    13.540561\n",
       "1          positive    10.417858\n",
       "2           neutral     6.422699"
      ]
     },
     "execution_count": 872,
     "metadata": {},
     "output_type": "execute_result"
    }
   ],
   "source": [
    "conversation_grouped"
   ]
  },
  {
   "cell_type": "code",
   "execution_count": 874,
   "id": "ee3ff0ea-9293-40ca-bba2-5c69ca329e02",
   "metadata": {},
   "outputs": [
    {
     "data": {
      "text/plain": [
       "<Axes: xlabel='conversation_type', ylabel='handle_time'>"
      ]
     },
     "execution_count": 874,
     "metadata": {},
     "output_type": "execute_result"
    },
    {
     "data": {
      "image/png": "[encoded data removed]",
      "text/plain": [
       "<Figure size 640x480 with 1 Axes>"
      ]
     },
     "metadata": {},
     "output_type": "display_data"
    }
   ],
   "source": [
    "sns.barplot(x = conversation_grouped['conversation_type'],y = conversation_grouped['handle_time'])"
   ]
  },
  {
   "cell_type": "markdown",
   "id": "406a54a6-4568-41b5-9dca-e9d41ea09a70",
   "metadata": {},
   "source": [
    "*From this we can see that negative conversation leads to high handle_time*"
   ]
  },
  {
   "cell_type": "code",
   "execution_count": 876,
   "id": "0d457028-4de4-49cf-9336-09a2c2114358",
   "metadata": {},
   "outputs": [
    {
     "data": {
      "text/html": [
       "<div>\n",
       "<style scoped>\n",
       "    .dataframe tbody tr th:only-of-type {\n",
       "        vertical-align: middle;\n",
       "    }\n",
       "\n",
       "    .dataframe tbody tr th {\n",
       "        vertical-align: top;\n",
       "    }\n",
       "\n",
       "    .dataframe thead th {\n",
       "        text-align: right;\n",
       "    }\n",
       "</style>\n",
       "<table border=\"1\" class=\"dataframe\">\n",
       "  <thead>\n",
       "    <tr style=\"text-align: right;\">\n",
       "      <th></th>\n",
       "      <th>conversation_type</th>\n",
       "      <th>waiting_time</th>\n",
       "    </tr>\n",
       "  </thead>\n",
       "  <tbody>\n",
       "    <tr>\n",
       "      <th>0</th>\n",
       "      <td>positive</td>\n",
       "      <td>7.393183</td>\n",
       "    </tr>\n",
       "    <tr>\n",
       "      <th>1</th>\n",
       "      <td>neutral</td>\n",
       "      <td>7.323144</td>\n",
       "    </tr>\n",
       "    <tr>\n",
       "      <th>2</th>\n",
       "      <td>negative</td>\n",
       "      <td>7.205972</td>\n",
       "    </tr>\n",
       "  </tbody>\n",
       "</table>\n",
       "</div>"
      ],
      "text/plain": [
       "  conversation_type  waiting_time\n",
       "0          positive      7.393183\n",
       "1           neutral      7.323144\n",
       "2          negative      7.205972"
      ]
     },
     "execution_count": 876,
     "metadata": {},
     "output_type": "execute_result"
    }
   ],
   "source": [
    "# Waiting time effect on average_sentiment or conversation type\n",
    "conversation_grouped_waitng = df1.groupby('conversation_type').agg({\n",
    "    \"waiting_time\":\"mean\"\n",
    "}).sort_values(by = 'waiting_time',ascending = False).reset_index()\n",
    "conversation_grouped_waitng"
   ]
  },
  {
   "cell_type": "markdown",
   "id": "69ae4e1f-61a8-440c-a971-69d7af5a9f77",
   "metadata": {},
   "source": [
    "*Here also we can see that average_sentiment score is independent of waiting time*"
   ]
  },
  {
   "cell_type": "markdown",
   "id": "944414a6-d06a-4072-b6cb-7b3a1cf921be",
   "metadata": {},
   "source": [
    "### Analyzing Customer Table"
   ]
  },
  {
   "cell_type": "code",
   "execution_count": 878,
   "id": "4468598e-f23c-4d34-b9a1-c51341089184",
   "metadata": {},
   "outputs": [
    {
     "data": {
      "text/html": [
       "<div>\n",
       "<style scoped>\n",
       "    .dataframe tbody tr th:only-of-type {\n",
       "        vertical-align: middle;\n",
       "    }\n",
       "\n",
       "    .dataframe tbody tr th {\n",
       "        vertical-align: top;\n",
       "    }\n",
       "\n",
       "    .dataframe thead th {\n",
       "        text-align: right;\n",
       "    }\n",
       "</style>\n",
       "<table border=\"1\" class=\"dataframe\">\n",
       "  <thead>\n",
       "    <tr style=\"text-align: right;\">\n",
       "      <th></th>\n",
       "      <th>handle_time</th>\n",
       "      <th>waiting_time</th>\n",
       "      <th>primary_call_reason</th>\n",
       "      <th>agent_tone</th>\n",
       "      <th>customer_tone</th>\n",
       "      <th>average_sentiment</th>\n",
       "      <th>silence_percent_average</th>\n",
       "      <th>elite_level_code</th>\n",
       "      <th>conversation_type</th>\n",
       "    </tr>\n",
       "  </thead>\n",
       "  <tbody>\n",
       "    <tr>\n",
       "      <th>0</th>\n",
       "      <td>31.0</td>\n",
       "      <td>7.0</td>\n",
       "      <td>Voluntary Cancel</td>\n",
       "      <td>neutral</td>\n",
       "      <td>angry</td>\n",
       "      <td>-0.04</td>\n",
       "      <td>0.39</td>\n",
       "      <td>4.0</td>\n",
       "      <td>negative</td>\n",
       "    </tr>\n",
       "    <tr>\n",
       "      <th>1</th>\n",
       "      <td>12.0</td>\n",
       "      <td>3.0</td>\n",
       "      <td>Booking</td>\n",
       "      <td>calm</td>\n",
       "      <td>neutral</td>\n",
       "      <td>0.02</td>\n",
       "      <td>0.35</td>\n",
       "      <td>0.0</td>\n",
       "      <td>positive</td>\n",
       "    </tr>\n",
       "    <tr>\n",
       "      <th>2</th>\n",
       "      <td>19.0</td>\n",
       "      <td>8.0</td>\n",
       "      <td>IRROPS</td>\n",
       "      <td>neutral</td>\n",
       "      <td>polite</td>\n",
       "      <td>-0.13</td>\n",
       "      <td>0.32</td>\n",
       "      <td>0.0</td>\n",
       "      <td>negative</td>\n",
       "    </tr>\n",
       "    <tr>\n",
       "      <th>3</th>\n",
       "      <td>7.0</td>\n",
       "      <td>5.0</td>\n",
       "      <td>Upgrade</td>\n",
       "      <td>neutral</td>\n",
       "      <td>frustrated</td>\n",
       "      <td>-0.20</td>\n",
       "      <td>0.20</td>\n",
       "      <td>2.0</td>\n",
       "      <td>negative</td>\n",
       "    </tr>\n",
       "    <tr>\n",
       "      <th>4</th>\n",
       "      <td>9.0</td>\n",
       "      <td>10.0</td>\n",
       "      <td>Seating</td>\n",
       "      <td>neutral</td>\n",
       "      <td>polite</td>\n",
       "      <td>-0.05</td>\n",
       "      <td>0.35</td>\n",
       "      <td>0.0</td>\n",
       "      <td>negative</td>\n",
       "    </tr>\n",
       "  </tbody>\n",
       "</table>\n",
       "</div>"
      ],
      "text/plain": [
       "   handle_time  waiting_time primary_call_reason agent_tone customer_tone  \\\n",
       "0         31.0           7.0    Voluntary Cancel    neutral         angry   \n",
       "1         12.0           3.0             Booking       calm       neutral   \n",
       "2         19.0           8.0              IRROPS    neutral        polite   \n",
       "3          7.0           5.0             Upgrade    neutral    frustrated   \n",
       "4          9.0          10.0             Seating    neutral        polite   \n",
       "\n",
       "   average_sentiment  silence_percent_average  elite_level_code  \\\n",
       "0              -0.04                     0.39               4.0   \n",
       "1               0.02                     0.35               0.0   \n",
       "2              -0.13                     0.32               0.0   \n",
       "3              -0.20                     0.20               2.0   \n",
       "4              -0.05                     0.35               0.0   \n",
       "\n",
       "  conversation_type  \n",
       "0          negative  \n",
       "1          positive  \n",
       "2          negative  \n",
       "3          negative  \n",
       "4          negative  "
      ]
     },
     "execution_count": 878,
     "metadata": {},
     "output_type": "execute_result"
    }
   ],
   "source": [
    "df1.head(5)"
   ]
  },
  {
   "cell_type": "code",
   "execution_count": 880,
   "id": "119ae5b5-e721-42e3-9c8e-91900018a8b4",
   "metadata": {},
   "outputs": [
    {
     "data": {
      "text/html": [
       "<div>\n",
       "<style scoped>\n",
       "    .dataframe tbody tr th:only-of-type {\n",
       "        vertical-align: middle;\n",
       "    }\n",
       "\n",
       "    .dataframe tbody tr th {\n",
       "        vertical-align: top;\n",
       "    }\n",
       "\n",
       "    .dataframe thead th {\n",
       "        text-align: right;\n",
       "    }\n",
       "</style>\n",
       "<table border=\"1\" class=\"dataframe\">\n",
       "  <thead>\n",
       "    <tr style=\"text-align: right;\">\n",
       "      <th></th>\n",
       "      <th>elite_level_code</th>\n",
       "      <th>handle_time</th>\n",
       "      <th>waiting_time</th>\n",
       "    </tr>\n",
       "  </thead>\n",
       "  <tbody>\n",
       "    <tr>\n",
       "      <th>0</th>\n",
       "      <td>5.0</td>\n",
       "      <td>14.949177</td>\n",
       "      <td>6.856836</td>\n",
       "    </tr>\n",
       "    <tr>\n",
       "      <th>1</th>\n",
       "      <td>4.0</td>\n",
       "      <td>13.137412</td>\n",
       "      <td>6.888471</td>\n",
       "    </tr>\n",
       "    <tr>\n",
       "      <th>2</th>\n",
       "      <td>3.0</td>\n",
       "      <td>12.125174</td>\n",
       "      <td>7.155683</td>\n",
       "    </tr>\n",
       "    <tr>\n",
       "      <th>3</th>\n",
       "      <td>2.0</td>\n",
       "      <td>12.107499</td>\n",
       "      <td>7.212880</td>\n",
       "    </tr>\n",
       "    <tr>\n",
       "      <th>4</th>\n",
       "      <td>1.0</td>\n",
       "      <td>11.472860</td>\n",
       "      <td>7.281976</td>\n",
       "    </tr>\n",
       "    <tr>\n",
       "      <th>5</th>\n",
       "      <td>0.0</td>\n",
       "      <td>11.302386</td>\n",
       "      <td>7.353888</td>\n",
       "    </tr>\n",
       "  </tbody>\n",
       "</table>\n",
       "</div>"
      ],
      "text/plain": [
       "   elite_level_code  handle_time  waiting_time\n",
       "0               5.0    14.949177      6.856836\n",
       "1               4.0    13.137412      6.888471\n",
       "2               3.0    12.125174      7.155683\n",
       "3               2.0    12.107499      7.212880\n",
       "4               1.0    11.472860      7.281976\n",
       "5               0.0    11.302386      7.353888"
      ]
     },
     "execution_count": 880,
     "metadata": {},
     "output_type": "execute_result"
    }
   ],
   "source": [
    "elite_grouped = df1.groupby('elite_level_code').agg({\n",
    "    'handle_time':'mean',\n",
    "     'waiting_time':'mean'\n",
    "    \n",
    "}).sort_values(by = 'handle_time',ascending = False).reset_index()\n",
    "elite_grouped"
   ]
  },
  {
   "cell_type": "code",
   "execution_count": 788,
   "id": "f2986093-8d6b-4e41-834e-28b2de719f24",
   "metadata": {},
   "outputs": [
    {
     "name": "stderr",
     "output_type": "stream",
     "text": [
      "C:\\Users\\Khan2\\anaconda3\\Lib\\site-packages\\seaborn\\_oldcore.py:1119: FutureWarning: use_inf_as_na option is deprecated and will be removed in a future version. Convert inf values to NaN before operating instead.\n",
      "  with pd.option_context('mode.use_inf_as_na', True):\n",
      "C:\\Users\\Khan2\\anaconda3\\Lib\\site-packages\\seaborn\\_oldcore.py:1119: FutureWarning: use_inf_as_na option is deprecated and will be removed in a future version. Convert inf values to NaN before operating instead.\n",
      "  with pd.option_context('mode.use_inf_as_na', True):\n",
      "C:\\Users\\Khan2\\anaconda3\\Lib\\site-packages\\seaborn\\_oldcore.py:1119: FutureWarning: use_inf_as_na option is deprecated and will be removed in a future version. Convert inf values to NaN before operating instead.\n",
      "  with pd.option_context('mode.use_inf_as_na', True):\n",
      "C:\\Users\\Khan2\\anaconda3\\Lib\\site-packages\\seaborn\\_oldcore.py:1119: FutureWarning: use_inf_as_na option is deprecated and will be removed in a future version. Convert inf values to NaN before operating instead.\n",
      "  with pd.option_context('mode.use_inf_as_na', True):\n"
     ]
    },
    {
     "data": {
      "text/plain": [
       "<Axes: xlabel='elite_level_code', ylabel='handle_time'>"
      ]
     },
     "execution_count": 788,
     "metadata": {},
     "output_type": "execute_result"
    },
    {
     "data": {
      "image/png": "[encoded data removed]",
      "text/plain": [
       "<Figure size 640x480 with 1 Axes>"
      ]
     },
     "metadata": {},
     "output_type": "display_data"
    }
   ],
   "source": [
    "sns.lineplot(elite_grouped,x = 'elite_level_code',y = 'handle_time',color = 'g')\n",
    "sns.lineplot(elite_grouped,x = 'elite_level_code',y = 'waiting_time',color ='b')"
   ]
  },
  {
   "cell_type": "markdown",
   "id": "a1cf04cf-b993-46e4-9721-02077f4377d6",
   "metadata": {},
   "source": [
    "*From the above graph we can see that as the elite level increases aht vlaue increases and waiting time decreases*"
   ]
  },
  {
   "cell_type": "code",
   "execution_count": 882,
   "id": "4e935f90-d3d5-46ba-aeec-c5d735472f79",
   "metadata": {},
   "outputs": [
    {
     "data": {
      "text/plain": [
       "Text(0.5, 1.0, 'Customer Distibution based on loyalty')"
      ]
     },
     "execution_count": 882,
     "metadata": {},
     "output_type": "execute_result"
    },
    {
     "data": {
      "image/png": "[encoded data removed]",
      "text/plain": [
       "<Figure size 640x480 with 1 Axes>"
      ]
     },
     "metadata": {},
     "output_type": "display_data"
    }
   ],
   "source": [
    "df1['elite_level_code'].value_counts().plot(kind = 'pie',autopct = \"%1.1f%%\")\n",
    "plt.title('Customer Distibution based on loyalty')"
   ]
  },
  {
   "cell_type": "code",
   "execution_count": 918,
   "id": "c069c207-1cf4-4846-b513-9cfb3afc55ce",
   "metadata": {},
   "outputs": [],
   "source": [
    "reason_grouped = df1.groupby('primary_call_reason').agg({\n",
    "    'handle_time':'mean',\n",
    "    'waiting_time':'count',\n",
    "    'average_sentiment':'mean'\n",
    "    \n",
    "}).sort_values(by = 'waiting_time',ascending = False).reset_index()"
   ]
  },
  {
   "cell_type": "code",
   "execution_count": 920,
   "id": "655c3e96-67a7-40c0-8cde-f93b69d12ad8",
   "metadata": {},
   "outputs": [
    {
     "data": {
      "text/html": [
       "<div>\n",
       "<style scoped>\n",
       "    .dataframe tbody tr th:only-of-type {\n",
       "        vertical-align: middle;\n",
       "    }\n",
       "\n",
       "    .dataframe tbody tr th {\n",
       "        vertical-align: top;\n",
       "    }\n",
       "\n",
       "    .dataframe thead th {\n",
       "        text-align: right;\n",
       "    }\n",
       "</style>\n",
       "<table border=\"1\" class=\"dataframe\">\n",
       "  <thead>\n",
       "    <tr style=\"text-align: right;\">\n",
       "      <th></th>\n",
       "      <th>primary_call_reason</th>\n",
       "      <th>avg_handle_time</th>\n",
       "      <th>count</th>\n",
       "      <th>average_sentiment</th>\n",
       "    </tr>\n",
       "  </thead>\n",
       "  <tbody>\n",
       "    <tr>\n",
       "      <th>0</th>\n",
       "      <td>IRROPS</td>\n",
       "      <td>12.667695</td>\n",
       "      <td>18468</td>\n",
       "      <td>-0.062287</td>\n",
       "    </tr>\n",
       "    <tr>\n",
       "      <th>1</th>\n",
       "      <td>Voluntary Change</td>\n",
       "      <td>10.652563</td>\n",
       "      <td>10848</td>\n",
       "      <td>-0.003845</td>\n",
       "    </tr>\n",
       "    <tr>\n",
       "      <th>2</th>\n",
       "      <td>Seating</td>\n",
       "      <td>7.916575</td>\n",
       "      <td>6365</td>\n",
       "      <td>-0.002789</td>\n",
       "    </tr>\n",
       "    <tr>\n",
       "      <th>3</th>\n",
       "      <td>Mileage Plus</td>\n",
       "      <td>16.592890</td>\n",
       "      <td>5851</td>\n",
       "      <td>-0.027390</td>\n",
       "    </tr>\n",
       "    <tr>\n",
       "      <th>4</th>\n",
       "      <td>Post Flight</td>\n",
       "      <td>15.548268</td>\n",
       "      <td>4330</td>\n",
       "      <td>-0.063813</td>\n",
       "    </tr>\n",
       "    <tr>\n",
       "      <th>5</th>\n",
       "      <td>Communications</td>\n",
       "      <td>13.778646</td>\n",
       "      <td>3840</td>\n",
       "      <td>-0.036388</td>\n",
       "    </tr>\n",
       "    <tr>\n",
       "      <th>6</th>\n",
       "      <td>Products and Services</td>\n",
       "      <td>12.516106</td>\n",
       "      <td>2856</td>\n",
       "      <td>-0.034468</td>\n",
       "    </tr>\n",
       "    <tr>\n",
       "      <th>7</th>\n",
       "      <td>Baggage</td>\n",
       "      <td>5.560734</td>\n",
       "      <td>2832</td>\n",
       "      <td>-0.019682</td>\n",
       "    </tr>\n",
       "    <tr>\n",
       "      <th>8</th>\n",
       "      <td>Upgrade</td>\n",
       "      <td>10.539080</td>\n",
       "      <td>2738</td>\n",
       "      <td>-0.016012</td>\n",
       "    </tr>\n",
       "    <tr>\n",
       "      <th>9</th>\n",
       "      <td>Booking</td>\n",
       "      <td>7.128934</td>\n",
       "      <td>2637</td>\n",
       "      <td>-0.013394</td>\n",
       "    </tr>\n",
       "    <tr>\n",
       "      <th>10</th>\n",
       "      <td>Check In</td>\n",
       "      <td>9.568803</td>\n",
       "      <td>1904</td>\n",
       "      <td>-0.042957</td>\n",
       "    </tr>\n",
       "    <tr>\n",
       "      <th>11</th>\n",
       "      <td>Checkout</td>\n",
       "      <td>16.947564</td>\n",
       "      <td>1888</td>\n",
       "      <td>-0.068978</td>\n",
       "    </tr>\n",
       "    <tr>\n",
       "      <th>12</th>\n",
       "      <td>Voluntary Cancel</td>\n",
       "      <td>12.031114</td>\n",
       "      <td>1607</td>\n",
       "      <td>-0.031512</td>\n",
       "    </tr>\n",
       "    <tr>\n",
       "      <th>13</th>\n",
       "      <td>Digital Support</td>\n",
       "      <td>6.204898</td>\n",
       "      <td>1225</td>\n",
       "      <td>-0.042041</td>\n",
       "    </tr>\n",
       "    <tr>\n",
       "      <th>14</th>\n",
       "      <td>ETC</td>\n",
       "      <td>16.048319</td>\n",
       "      <td>952</td>\n",
       "      <td>-0.049296</td>\n",
       "    </tr>\n",
       "    <tr>\n",
       "      <th>15</th>\n",
       "      <td>Traveler Updates</td>\n",
       "      <td>6.553895</td>\n",
       "      <td>937</td>\n",
       "      <td>0.006585</td>\n",
       "    </tr>\n",
       "    <tr>\n",
       "      <th>16</th>\n",
       "      <td>Other Topics</td>\n",
       "      <td>5.834963</td>\n",
       "      <td>818</td>\n",
       "      <td>-0.003888</td>\n",
       "    </tr>\n",
       "    <tr>\n",
       "      <th>17</th>\n",
       "      <td>Schedule Change</td>\n",
       "      <td>8.166895</td>\n",
       "      <td>731</td>\n",
       "      <td>-0.033844</td>\n",
       "    </tr>\n",
       "    <tr>\n",
       "      <th>18</th>\n",
       "      <td>Products &amp; Services</td>\n",
       "      <td>12.002101</td>\n",
       "      <td>476</td>\n",
       "      <td>-0.034055</td>\n",
       "    </tr>\n",
       "    <tr>\n",
       "      <th>19</th>\n",
       "      <td>Disability</td>\n",
       "      <td>4.868486</td>\n",
       "      <td>403</td>\n",
       "      <td>0.035757</td>\n",
       "    </tr>\n",
       "    <tr>\n",
       "      <th>20</th>\n",
       "      <td>Unaccompanied Minor</td>\n",
       "      <td>8.653846</td>\n",
       "      <td>104</td>\n",
       "      <td>-0.013846</td>\n",
       "    </tr>\n",
       "  </tbody>\n",
       "</table>\n",
       "</div>"
      ],
      "text/plain": [
       "      primary_call_reason  avg_handle_time  count  average_sentiment\n",
       "0                  IRROPS        12.667695  18468          -0.062287\n",
       "1        Voluntary Change        10.652563  10848          -0.003845\n",
       "2                 Seating         7.916575   6365          -0.002789\n",
       "3            Mileage Plus        16.592890   5851          -0.027390\n",
       "4             Post Flight        15.548268   4330          -0.063813\n",
       "5          Communications        13.778646   3840          -0.036388\n",
       "6   Products and Services        12.516106   2856          -0.034468\n",
       "7                 Baggage         5.560734   2832          -0.019682\n",
       "8                 Upgrade        10.539080   2738          -0.016012\n",
       "9                 Booking         7.128934   2637          -0.013394\n",
       "10               Check In         9.568803   1904          -0.042957\n",
       "11               Checkout        16.947564   1888          -0.068978\n",
       "12       Voluntary Cancel        12.031114   1607          -0.031512\n",
       "13        Digital Support         6.204898   1225          -0.042041\n",
       "14                    ETC        16.048319    952          -0.049296\n",
       "15       Traveler Updates         6.553895    937           0.006585\n",
       "16           Other Topics         5.834963    818          -0.003888\n",
       "17        Schedule Change         8.166895    731          -0.033844\n",
       "18    Products & Services        12.002101    476          -0.034055\n",
       "19             Disability         4.868486    403           0.035757\n",
       "20    Unaccompanied Minor         8.653846    104          -0.013846"
      ]
     },
     "execution_count": 920,
     "metadata": {},
     "output_type": "execute_result"
    }
   ],
   "source": [
    "reason_grouped.rename(columns = {'waiting_time':'count','handle_time':'avg_handle_time'})"
   ]
  },
  {
   "cell_type": "code",
   "execution_count": 952,
   "id": "1815e834-6a56-4bfc-a519-93ba802570c9",
   "metadata": {},
   "outputs": [
    {
     "data": {
      "text/plain": [
       "Text(0, 0.5, 'Avg_Handle Time')"
      ]
     },
     "execution_count": 952,
     "metadata": {},
     "output_type": "execute_result"
    },
    {
     "data": {
      "image/png": "[encoded data removed]",
      "text/plain": [
       "<Figure size 640x480 with 1 Axes>"
      ]
     },
     "metadata": {},
     "output_type": "display_data"
    }
   ],
   "source": [
    "plt.scatter(reason_grouped['average_sentiment'],reason_grouped['handle_time'])\n",
    "plt.xlabel('avg_sentiment')\n",
    "plt.ylabel('Avg_Handle Time')"
   ]
  },
  {
   "cell_type": "markdown",
   "id": "5814436e-45b7-4566-bc92-24c91bd7a035",
   "metadata": {},
   "source": [
    "## From this we can observe a linear sort of relation ship between "
   ]
  },
  {
   "cell_type": "code",
   "execution_count": 955,
   "id": "a263042e-3b7d-4892-bf2f-5c0c634475ce",
   "metadata": {},
   "outputs": [
    {
     "data": {
      "text/plain": [
       "<Axes: xlabel='primary_call_reason'>"
      ]
     },
     "execution_count": 955,
     "metadata": {},
     "output_type": "execute_result"
    },
    {
     "data": {
      "image/png": "[encoded data removed]",
      "text/plain": [
       "<Figure size 1500x1000 with 1 Axes>"
      ]
     },
     "metadata": {},
     "output_type": "display_data"
    }
   ],
   "source": [
    "df1['primary_call_reason'].value_counts().plot( kind='bar', figsize=(15,10))"
   ]
  },
  {
   "cell_type": "code",
   "execution_count": 957,
   "id": "579656c9-4da8-47e5-86f9-2f3525c56d7d",
   "metadata": {},
   "outputs": [
    {
     "data": {
      "text/html": [
       "<div>\n",
       "<style scoped>\n",
       "    .dataframe tbody tr th:only-of-type {\n",
       "        vertical-align: middle;\n",
       "    }\n",
       "\n",
       "    .dataframe tbody tr th {\n",
       "        vertical-align: top;\n",
       "    }\n",
       "\n",
       "    .dataframe thead th {\n",
       "        text-align: right;\n",
       "    }\n",
       "</style>\n",
       "<table border=\"1\" class=\"dataframe\">\n",
       "  <thead>\n",
       "    <tr style=\"text-align: right;\">\n",
       "      <th></th>\n",
       "      <th>handle_time</th>\n",
       "      <th>waiting_time</th>\n",
       "      <th>primary_call_reason</th>\n",
       "      <th>agent_tone</th>\n",
       "      <th>customer_tone</th>\n",
       "      <th>average_sentiment</th>\n",
       "      <th>silence_percent_average</th>\n",
       "      <th>elite_level_code</th>\n",
       "      <th>conversation_type</th>\n",
       "    </tr>\n",
       "  </thead>\n",
       "  <tbody>\n",
       "    <tr>\n",
       "      <th>0</th>\n",
       "      <td>31.0</td>\n",
       "      <td>7.0</td>\n",
       "      <td>Voluntary Cancel</td>\n",
       "      <td>neutral</td>\n",
       "      <td>angry</td>\n",
       "      <td>-0.04</td>\n",
       "      <td>0.39</td>\n",
       "      <td>4.0</td>\n",
       "      <td>negative</td>\n",
       "    </tr>\n",
       "    <tr>\n",
       "      <th>1</th>\n",
       "      <td>12.0</td>\n",
       "      <td>3.0</td>\n",
       "      <td>Booking</td>\n",
       "      <td>calm</td>\n",
       "      <td>neutral</td>\n",
       "      <td>0.02</td>\n",
       "      <td>0.35</td>\n",
       "      <td>0.0</td>\n",
       "      <td>positive</td>\n",
       "    </tr>\n",
       "    <tr>\n",
       "      <th>2</th>\n",
       "      <td>19.0</td>\n",
       "      <td>8.0</td>\n",
       "      <td>IRROPS</td>\n",
       "      <td>neutral</td>\n",
       "      <td>polite</td>\n",
       "      <td>-0.13</td>\n",
       "      <td>0.32</td>\n",
       "      <td>0.0</td>\n",
       "      <td>negative</td>\n",
       "    </tr>\n",
       "    <tr>\n",
       "      <th>3</th>\n",
       "      <td>7.0</td>\n",
       "      <td>5.0</td>\n",
       "      <td>Upgrade</td>\n",
       "      <td>neutral</td>\n",
       "      <td>frustrated</td>\n",
       "      <td>-0.20</td>\n",
       "      <td>0.20</td>\n",
       "      <td>2.0</td>\n",
       "      <td>negative</td>\n",
       "    </tr>\n",
       "    <tr>\n",
       "      <th>4</th>\n",
       "      <td>9.0</td>\n",
       "      <td>10.0</td>\n",
       "      <td>Seating</td>\n",
       "      <td>neutral</td>\n",
       "      <td>polite</td>\n",
       "      <td>-0.05</td>\n",
       "      <td>0.35</td>\n",
       "      <td>0.0</td>\n",
       "      <td>negative</td>\n",
       "    </tr>\n",
       "  </tbody>\n",
       "</table>\n",
       "</div>"
      ],
      "text/plain": [
       "   handle_time  waiting_time primary_call_reason agent_tone customer_tone  \\\n",
       "0         31.0           7.0    Voluntary Cancel    neutral         angry   \n",
       "1         12.0           3.0             Booking       calm       neutral   \n",
       "2         19.0           8.0              IRROPS    neutral        polite   \n",
       "3          7.0           5.0             Upgrade    neutral    frustrated   \n",
       "4          9.0          10.0             Seating    neutral        polite   \n",
       "\n",
       "   average_sentiment  silence_percent_average  elite_level_code  \\\n",
       "0              -0.04                     0.39               4.0   \n",
       "1               0.02                     0.35               0.0   \n",
       "2              -0.13                     0.32               0.0   \n",
       "3              -0.20                     0.20               2.0   \n",
       "4              -0.05                     0.35               0.0   \n",
       "\n",
       "  conversation_type  \n",
       "0          negative  \n",
       "1          positive  \n",
       "2          negative  \n",
       "3          negative  \n",
       "4          negative  "
      ]
     },
     "execution_count": 957,
     "metadata": {},
     "output_type": "execute_result"
    }
   ],
   "source": [
    "df1.head()"
   ]
  },
  {
   "cell_type": "code",
   "execution_count": 961,
   "id": "8eea9a90-f680-4590-8287-e84cca3a6038",
   "metadata": {},
   "outputs": [
    {
     "data": {
      "text/plain": [
       "<matplotlib.collections.PathCollection at 0x1661a520f90>"
      ]
     },
     "execution_count": 961,
     "metadata": {},
     "output_type": "execute_result"
    },
    {
     "data": {
      "image/png": "[encoded data removed]",
      "text/plain": [
       "<Figure size 640x480 with 1 Axes>"
      ]
     },
     "metadata": {},
     "output_type": "display_data"
    }
   ],
   "source": []
  },
  {
   "cell_type": "code",
   "execution_count": null,
   "id": "1d3b9e46-9b76-47c7-9e82-ca4d5d86ed03",
   "metadata": {},
   "outputs": [],
   "source": []
  }
 ],
 "metadata": {
  "kernelspec": {
   "display_name": "Python 3 (ipykernel)",
   "language": "python",
   "name": "python3"
  },
  "language_info": {
   "codemirror_mode": {
    "name": "ipython",
    "version": 3
   },
   "file_extension": ".py",
   "mimetype": "text/x-python",
   "name": "python",
   "nbconvert_exporter": "python",
   "pygments_lexer": "ipython3",
   "version": "3.11.7"
  }
 },
 "nbformat": 4,
 "nbformat_minor": 5
}
